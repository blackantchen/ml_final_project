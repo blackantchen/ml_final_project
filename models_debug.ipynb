{
 "cells": [
  {
   "cell_type": "markdown",
   "metadata": {},
   "source": [
    "### 开始"
   ]
  },
  {
   "cell_type": "code",
   "execution_count": 1,
   "metadata": {},
   "outputs": [],
   "source": [
    "# 检查Python版本\n",
    "from sys import version_info\n",
    "if version_info.major != 3:\n",
    "    raise Exception('请使用Python3来完成此项目')"
   ]
  },
  {
   "cell_type": "markdown",
   "metadata": {},
   "source": [
    "### 数据预处理"
   ]
  },
  {
   "cell_type": "markdown",
   "metadata": {},
   "source": [
    "#### 获取数据\n",
    "[Dogs vs. Cats Redux: Kernels Edition\n",
    "](https://www.kaggle.com/c/dogs-vs-cats-redux-kernels-edition)"
   ]
  },
  {
   "cell_type": "code",
   "execution_count": 2,
   "metadata": {},
   "outputs": [
    {
     "name": "stdout",
     "output_type": "stream",
     "text": [
      "file is exist, no need download\n",
      "files found\n",
      "file is exist, no need download\n",
      "files found\n"
     ]
    }
   ],
   "source": [
    "# download data and unzip it\n",
    "# from urllib.request import urlretrieve\n",
    "import subprocess\n",
    "import os\n",
    "from tqdm import tqdm\n",
    "from zipfile import ZipFile\n",
    "\n",
    "train_url = ['kaggle','competitions','download','-c','dogs-vs-cats-redux-kernels-edition',\n",
    "            '-f','train.zip','-p','./']\n",
    "test_url = ['kaggle','competitions','download','-c','dogs-vs-cats-redux-kernels-edition',\n",
    "            '-f','test.zip','-p','./']\n",
    "sample_csv_url = ['kaggle','competitions','download','-c','dogs-vs-cats-redux-kernels-edition',\n",
    "                  '-f','sample_submission.csv','-p','./']\n",
    "\n",
    "\n",
    "def download_unzip_dataset(url, zip_file_path, folder_path, unzip=True):\n",
    "    if os.path.exists(zip_file_path):\n",
    "        print(\"file is exist, no need download\")\n",
    "    else:\n",
    "        print(\"download now\")\n",
    "#         urlretrieve(url, zip_file_path)\n",
    "        subp = subprocess.run(url)\n",
    "#         subp.wait()\n",
    "    \n",
    "    if unzip:\n",
    "        if os.path.exists(folder_path):\n",
    "            print(\"files found\")\n",
    "        else:\n",
    "            print(\"unzip now\")\n",
    "            zipf = ZipFile(zip_file_path)\n",
    "            zipf.extractall()\n",
    "            print(\"unzip end\")\n",
    "\n",
    "download_unzip_dataset(train_url, 'train.zip', 'train/')\n",
    "download_unzip_dataset(test_url, 'test.zip', 'test/')"
   ]
  },
  {
   "cell_type": "markdown",
   "metadata": {},
   "source": [
    "#### 分离数据集，dog和cat图片分别放入train2/dogs, train2/cats"
   ]
  },
  {
   "cell_type": "code",
   "execution_count": 3,
   "metadata": {},
   "outputs": [
    {
     "name": "stdout",
     "output_type": "stream",
     "text": [
      "split over\n"
     ]
    }
   ],
   "source": [
    "import os\n",
    "import shutil\n",
    "\n",
    "def split_train_set(old_dir, new_dir):\n",
    "    file_list = os.listdir(old_dir)\n",
    "    file_cats = filter(lambda x:x[:3] == 'cat', file_list)\n",
    "    file_dogs = filter(lambda x:x[:3] == 'dog', file_list)\n",
    "\n",
    "    if os.path.exists(new_dir):\n",
    "        shutil.rmtree(new_dir)\n",
    "    os.mkdir(new_dir)\n",
    "    \n",
    "    dogs_path = os.path.join(new_dir, 'dogs')\n",
    "    cats_path = os.path.join(new_dir, 'cats')\n",
    "    os.mkdir(dogs_path)\n",
    "    os.mkdir(cats_path)\n",
    "    \n",
    "    # 此处要注意： os.symlink(src, dst)\n",
    "    # dst是从它所在的目录去选择src,所以src必须是相对于dst的relative path\n",
    "    for filename in file_cats:\n",
    "        os.symlink('../../'+old_dir+filename, cats_path+'/'+filename)\n",
    "    \n",
    "    for filename in file_dogs:\n",
    "        os.symlink(old_dir+filename, dogs_path+'/'+filename)\n",
    "        \n",
    "    print(\"split over\")\n",
    "\n",
    "split_train_set('train/', 'train2/')\n"
   ]
  },
  {
   "cell_type": "markdown",
   "metadata": {},
   "source": [
    "### Test Model in single picture"
   ]
  },
  {
   "cell_type": "markdown",
   "metadata": {},
   "source": [
    "为了复用代码，同时也保证测试的一致性，将model的预测试封装为一个函数\n",
    "\n",
    "下面的几个pre-trained model都是在ImageNet图片库上训练过的，因为ImageNet很大，已经包含有足够多种类的‘dog'和'cat'，所以这些模型能够学习并提取\"Dogs_vs_Cats”数据集里的特征(可以把本数据集理解为ImageNet的子集)"
   ]
  },
  {
   "cell_type": "code",
   "execution_count": 6,
   "metadata": {},
   "outputs": [],
   "source": [
    "from keras.preprocessing import image\n",
    "# from keras.applications.resnet50 import preprocess_input, decode_predictions\n",
    "from keras.applications import *\n",
    "from keras.layers import Input\n",
    "import numpy as np\n",
    "\n",
    "\n",
    "def trained_model_test(MODEL, image_size, preprocess_input, decode_predictions):\n",
    "#     input_tensor = Input((image_size[0], image_size[1], 3)) # shape: width, height, channel\n",
    "    \n",
    "#     if preprocess_input:\n",
    "#         x = preprocess(input_tensor)\n",
    "#     else:\n",
    "#         x = input_tensor\n",
    "        \n",
    "    # using the pre-training weights in ImageNet dataset\n",
    "    base_model = MODEL(weights='imagenet')\n",
    "    \n",
    "    img = image.load_img('test/1.jpg', target_size=image_size)\n",
    "    x = image.img_to_array(img)\n",
    "    x = np.expand_dims(x, axis=0)\n",
    "    x = preprocess_input(x)\n",
    "        \n",
    "    preds = base_model.predict(x)\n",
    "    print('preds shape:', preds.shape)\n",
    "#     print(preds[:5])\n",
    "    decode_preds = decode_predictions(preds, top=3)\n",
    "    print('decode_pred shape:',decode_preds)\n",
    "    print('predicted:', decode_preds[0])\n",
    "    \n",
    "    return\n",
    "    "
   ]
  },
  {
   "cell_type": "markdown",
   "metadata": {},
   "source": [
    "- ResNet50"
   ]
  },
  {
   "cell_type": "code",
   "execution_count": 7,
   "metadata": {},
   "outputs": [
    {
     "name": "stdout",
     "output_type": "stream",
     "text": [
      "preds shape: (1, 1000)\n",
      "decode_pred shape: [[('n02105412', 'kelpie', 0.24543868), ('n02113186', 'Cardigan', 0.110969715), ('n02106166', 'Border_collie', 0.09240467)]]\n",
      "predicted: [('n02105412', 'kelpie', 0.24543868), ('n02113186', 'Cardigan', 0.110969715), ('n02106166', 'Border_collie', 0.09240467)]\n"
     ]
    },
    {
     "data": {
      "text/plain": [
       "array([[1.31234847e-04, 8.57069972e-06, 2.03391191e-05, 1.04978262e-05,\n",
       "        3.51435847e-05, 3.04519108e-05, 1.98745583e-05, 2.87555285e-05,\n",
       "        1.01201025e-04, 9.98234555e-06, 1.64194523e-06, 1.32972320e-06,\n",
       "        4.40749687e-07, 1.44929209e-06, 3.55652560e-06, 3.53966448e-06,\n",
       "        2.73672276e-06, 9.98054165e-05, 5.52410260e-04, 4.18776872e-05,\n",
       "        9.48150955e-06, 6.28416387e-07, 1.69006091e-06, 2.89736136e-06,\n",
       "        1.74253898e-06, 2.04213256e-06, 2.00341333e-06, 2.19998356e-06,\n",
       "        3.27403068e-05, 1.87724399e-05, 4.65155244e-05, 3.08207859e-06,\n",
       "        1.15437670e-05, 6.37757284e-06, 5.29125173e-05, 2.16581284e-05,\n",
       "        2.49987752e-05, 8.06592925e-06, 1.24051564e-06, 4.57808937e-06,\n",
       "        1.80651364e-06, 3.97660278e-06, 5.11140843e-06, 1.14342211e-05,\n",
       "        2.63906372e-06, 8.06809931e-06, 2.54208567e-06, 1.57599072e-06,\n",
       "        8.67023118e-06, 1.44446255e-06, 2.08846486e-05, 1.87419209e-05,\n",
       "        2.00932300e-05, 1.17357795e-05, 4.94386768e-06, 2.07737571e-06,\n",
       "        1.22448282e-05, 5.73353736e-06, 4.10241501e-06, 5.51184394e-06,\n",
       "        6.80918311e-05, 1.31861489e-05, 5.52762549e-06, 1.80437437e-05,\n",
       "        2.07617131e-06, 4.87312309e-06, 2.49410164e-06, 6.38278698e-06,\n",
       "        2.12572263e-06, 5.60559920e-06, 7.21078891e-07, 3.19892433e-06,\n",
       "        9.40526036e-07, 1.15025614e-06, 1.76299545e-06, 3.32383752e-06,\n",
       "        3.66629456e-06, 5.81054064e-06, 5.84097597e-06, 1.71203237e-06,\n",
       "        6.59393891e-06, 1.45103468e-06, 4.38535290e-06, 7.71718362e-07,\n",
       "        2.71057816e-05, 9.82424717e-06, 5.59810906e-06, 3.54884323e-05,\n",
       "        4.50762636e-05, 2.95023947e-05, 1.68119220e-06, 1.08168229e-06,\n",
       "        1.06112431e-07, 5.30822081e-06, 1.73634146e-06, 1.02185277e-06,\n",
       "        8.37736661e-06, 6.17022670e-05, 5.08470703e-06, 4.18308104e-04,\n",
       "        1.29067674e-04, 3.32281684e-06, 2.00726226e-05, 6.50198217e-06,\n",
       "        1.69476110e-03, 2.41461885e-03, 1.16380013e-03, 3.40296492e-06,\n",
       "        7.58856743e-07, 2.17912520e-06, 2.13931088e-07, 7.00656074e-07,\n",
       "        8.98560575e-06, 4.07829657e-06, 5.39853818e-06, 1.67470887e-07,\n",
       "        1.84186638e-06, 5.48601406e-07, 3.39970356e-05, 1.59523061e-05,\n",
       "        1.04432002e-06, 1.65644706e-05, 6.25703251e-05, 6.03726585e-06,\n",
       "        1.36667504e-05, 3.98711427e-06, 1.94577888e-06, 2.40332793e-06,\n",
       "        9.84244889e-06, 1.46757275e-05, 4.94510568e-05, 6.43370049e-06,\n",
       "        2.68798794e-06, 8.03377418e-07, 2.44700332e-05, 4.21619234e-07,\n",
       "        5.95545498e-05, 5.45624680e-05, 1.33834260e-06, 2.54867155e-06,\n",
       "        1.53738927e-06, 1.66068844e-06, 6.46973433e-07, 4.39148380e-06,\n",
       "        2.03803011e-05, 7.20011085e-05, 4.79040364e-06, 5.99532177e-05,\n",
       "        9.46832552e-06, 4.51688902e-06, 1.67674007e-05, 4.19643447e-02,\n",
       "        8.66816044e-05, 7.97825924e-05, 1.13765796e-04, 1.86003017e-04,\n",
       "        5.40503170e-05, 5.51136630e-03, 2.21963748e-02, 1.95896137e-04,\n",
       "        1.12125032e-04, 4.58560127e-04, 6.07203867e-04, 6.16089601e-05,\n",
       "        2.88457982e-03, 2.28683130e-04, 5.56746905e-04, 8.30937206e-05,\n",
       "        8.49021424e-04, 6.60769074e-05, 2.48802477e-04, 2.41328012e-02,\n",
       "        1.75999608e-02, 1.42840843e-03, 2.61373278e-02, 6.69827705e-06,\n",
       "        3.62343097e-04, 1.25699764e-04, 2.99367588e-04, 3.81574109e-02,\n",
       "        2.45083962e-02, 1.46169739e-04, 2.65603885e-03, 9.44859858e-05,\n",
       "        1.21280573e-04, 4.80025250e-04, 4.99931863e-04, 3.52635398e-05,\n",
       "        6.61877784e-05, 4.32626512e-05, 3.44813670e-05, 7.27153474e-06,\n",
       "        3.72005859e-04, 1.00832968e-03, 1.23733917e-05, 1.84296649e-02,\n",
       "        1.04623105e-04, 9.74957948e-06, 1.39643480e-05, 1.71805295e-04,\n",
       "        1.57033701e-05, 7.69419712e-05, 7.71440245e-05, 1.55641837e-03,\n",
       "        1.62163487e-04, 1.89129997e-03, 5.87332877e-04, 2.36550972e-04,\n",
       "        2.96361912e-02, 8.39541899e-04, 1.59945409e-03, 6.17031546e-05,\n",
       "        5.57504036e-03, 2.29875568e-05, 1.94231470e-05, 6.68762112e-03,\n",
       "        2.08652898e-04, 7.58605730e-03, 4.11648885e-04, 6.09701034e-04,\n",
       "        1.05387939e-04, 5.33644998e-05, 3.58090946e-03, 1.83996502e-02,\n",
       "        2.02065799e-03, 2.16075336e-03, 3.21415515e-04, 2.45438680e-01,\n",
       "        6.19467464e-04, 1.16211602e-04, 4.36208677e-04, 3.13113555e-02,\n",
       "        9.24046710e-02, 4.11439069e-05, 1.90981926e-04, 5.82946814e-04,\n",
       "        4.98552865e-04, 1.83081860e-03, 1.35378214e-04, 1.17202952e-04,\n",
       "        4.23071906e-03, 9.24980384e-04, 8.58283383e-05, 1.21770587e-04,\n",
       "        5.59842665e-05, 1.02910749e-03, 6.31644763e-03, 7.58755137e-04,\n",
       "        2.29195040e-02, 2.20060674e-03, 1.85325146e-02, 1.85583625e-03,\n",
       "        4.49473991e-05, 7.40505662e-03, 6.43149903e-03, 2.42166730e-04,\n",
       "        2.55643710e-04, 1.88566919e-03, 3.75149422e-03, 1.50585093e-03,\n",
       "        3.44211468e-04, 3.50210496e-04, 3.12398450e-04, 2.11587716e-02,\n",
       "        1.10969715e-01, 4.94734151e-04, 1.74971457e-04, 5.02781069e-04,\n",
       "        7.25590042e-04, 1.23489823e-04, 3.61112092e-04, 5.44658451e-06,\n",
       "        4.84620114e-06, 1.94579759e-03, 2.15261371e-05, 2.81099619e-05,\n",
       "        1.07891965e-05, 1.27248677e-06, 1.95636630e-06, 2.16997476e-04,\n",
       "        1.98794878e-05, 5.50713376e-05, 2.85864953e-05, 1.31786310e-05,\n",
       "        3.99234588e-04, 8.58894637e-05, 1.38528252e-04, 3.76656462e-05,\n",
       "        5.69931808e-06, 5.30404623e-06, 2.75834645e-05, 4.92798279e-07,\n",
       "        1.43875504e-05, 4.62296555e-07, 6.30695786e-06, 4.84645134e-04,\n",
       "        1.15138551e-04, 2.28480931e-05, 4.44037141e-05, 8.54167520e-05,\n",
       "        1.56167043e-05, 7.37311268e-07, 6.86837893e-06, 3.32600325e-06,\n",
       "        2.51697941e-07, 1.13607439e-05, 4.27347368e-05, 3.67775812e-07,\n",
       "        1.93480872e-07, 1.89892216e-06, 1.15809933e-04, 5.44844227e-07,\n",
       "        3.46258503e-06, 9.33663068e-06, 1.06686666e-05, 8.63471200e-07,\n",
       "        7.90284332e-07, 2.98746784e-07, 1.63704414e-07, 7.30572992e-07,\n",
       "        7.94867537e-06, 3.08103836e-06, 1.75135881e-06, 3.52541889e-07,\n",
       "        1.58539876e-06, 7.22759410e-07, 9.66680432e-07, 6.32049341e-06,\n",
       "        3.09477286e-06, 5.50245340e-06, 5.33583167e-04, 1.23832957e-04,\n",
       "        3.44678556e-04, 1.44187943e-04, 1.89051734e-05, 7.88086345e-06,\n",
       "        8.59207557e-06, 6.97250580e-05, 4.26588999e-03, 1.48857407e-05,\n",
       "        4.46527065e-06, 9.88759915e-04, 6.19943530e-05, 2.56313924e-05,\n",
       "        3.26463960e-05, 9.86987288e-05, 1.14336981e-05, 3.26016846e-07,\n",
       "        3.08780256e-03, 1.19873503e-05, 1.56834255e-06, 3.46572506e-07,\n",
       "        1.85918771e-06, 6.13902739e-06, 1.58125622e-05, 2.15053419e-03,\n",
       "        1.34756774e-04, 3.49206130e-05, 2.52970232e-04, 6.27515081e-04,\n",
       "        6.47609995e-05, 6.24692882e-04, 1.18842341e-04, 1.26925015e-05,\n",
       "        1.93578249e-04, 3.85232624e-06, 3.59270166e-06, 1.07294791e-05,\n",
       "        6.24831446e-05, 5.34704086e-05, 1.83547054e-05, 2.02699139e-05,\n",
       "        9.35264893e-07, 6.96257193e-05, 2.07797007e-06, 6.25227767e-05,\n",
       "        6.51460050e-06, 6.88541477e-05, 2.03600594e-05, 8.53066522e-05,\n",
       "        6.07839102e-05, 1.45661033e-05, 5.38236309e-05, 1.66536018e-04,\n",
       "        4.99076326e-04, 6.27676354e-06, 1.40732880e-06, 2.63968809e-06,\n",
       "        9.81825269e-06, 5.36781517e-05, 1.99043388e-05, 2.24936855e-04,\n",
       "        1.59775698e-06, 1.39445535e-06, 1.70258791e-04, 1.23426189e-05,\n",
       "        2.27639543e-06, 1.64883932e-05, 1.56972383e-04, 5.86648275e-06,\n",
       "        3.79368503e-05, 8.59905958e-06, 6.63521951e-06, 7.01255772e-07,\n",
       "        1.09191348e-07, 5.12459906e-07, 1.20753498e-06, 2.58185423e-06,\n",
       "        8.69785163e-06, 1.52240091e-06, 3.47401146e-05, 5.05823482e-05,\n",
       "        1.65420861e-04, 1.50507276e-05, 9.03128894e-05, 1.54281279e-05,\n",
       "        1.09349230e-05, 2.34281060e-06, 2.40105783e-06, 6.60592050e-05,\n",
       "        2.85216869e-04, 8.78733772e-05, 1.13307287e-05, 1.15267258e-05,\n",
       "        7.26815488e-05, 1.29538216e-06, 1.00753950e-05, 2.27061304e-04,\n",
       "        7.19703850e-04, 1.84805453e-04, 1.63996156e-05, 9.57904485e-05,\n",
       "        1.08899339e-05, 1.10206507e-04, 2.44548032e-03, 1.56638380e-05,\n",
       "        3.71050942e-06, 7.16223485e-06, 1.94957829e-05, 1.73698827e-05,\n",
       "        5.90160780e-05, 6.69177052e-06, 1.53099109e-06, 5.99704908e-05,\n",
       "        3.51314848e-05, 2.05742199e-05, 5.34175797e-06, 6.96801289e-05,\n",
       "        1.44140013e-05, 3.94755398e-06, 2.14060692e-05, 1.22037327e-05,\n",
       "        8.37170883e-05, 2.71255999e-06, 4.46355489e-06, 1.14883705e-05,\n",
       "        6.41488296e-05, 3.02554457e-04, 3.00073152e-05, 1.35568007e-05,\n",
       "        7.93864892e-05, 1.64567391e-05, 1.30870962e-04, 9.17676196e-04,\n",
       "        5.07416144e-06, 5.81626518e-05, 2.77983577e-06, 3.85675776e-05,\n",
       "        1.86373222e-06, 1.34663904e-04, 5.90923300e-05, 2.69103521e-06,\n",
       "        3.09890347e-05, 8.31403740e-05, 1.04291321e-05, 8.70355143e-06,\n",
       "        1.36861723e-04, 6.14312376e-05, 3.51858725e-05, 2.34788104e-06,\n",
       "        1.71052197e-05, 1.58244120e-06, 4.94637607e-06, 5.67811639e-06,\n",
       "        4.35709762e-06, 3.56257988e-05, 7.84491476e-06, 9.63638831e-06,\n",
       "        2.22150193e-05, 1.69355088e-04, 1.50208434e-05, 1.37658781e-05,\n",
       "        3.85559770e-06, 3.95336087e-07, 1.72538184e-05, 9.70194606e-07,\n",
       "        1.03920356e-04, 1.38032317e-06, 1.70108251e-06, 5.33539678e-05,\n",
       "        1.03476468e-05, 7.87620884e-05, 2.14919201e-05, 5.05940943e-06,\n",
       "        4.67468408e-06, 6.77906974e-06, 2.22842973e-05, 5.85762155e-06,\n",
       "        4.88523765e-05, 1.22833308e-05, 7.30442389e-06, 8.54722771e-07,\n",
       "        3.13378064e-06, 2.00973500e-05, 1.14635277e-05, 5.62178844e-04,\n",
       "        9.79043616e-05, 8.28383418e-06, 7.62151685e-05, 3.16703190e-05,\n",
       "        2.79976739e-05, 1.68453116e-05, 3.94677103e-04, 6.12646458e-04,\n",
       "        7.65081677e-06, 4.71757949e-06, 9.10952963e-07, 5.19786681e-06,\n",
       "        1.70157655e-05, 5.72333520e-04, 6.79411733e-06, 1.19981303e-06,\n",
       "        5.22012169e-06, 2.12963387e-05, 9.07149733e-05, 9.54506231e-06,\n",
       "        1.06658990e-05, 6.08962728e-04, 1.79845324e-06, 7.10556633e-04,\n",
       "        8.95807170e-06, 1.06401101e-03, 6.58113277e-05, 1.10088376e-05,\n",
       "        7.63753569e-03, 3.56111595e-05, 7.02761736e-06, 1.33862989e-06,\n",
       "        1.27448095e-06, 4.48899755e-06, 1.04343712e-06, 5.57148405e-06,\n",
       "        7.07274958e-05, 1.42929741e-06, 4.97135579e-06, 1.44297417e-06,\n",
       "        2.06825189e-05, 3.70147260e-04, 8.34125021e-05, 2.71327706e-04,\n",
       "        8.65958427e-05, 3.93245955e-06, 1.73277422e-05, 3.51142688e-07,\n",
       "        3.37313236e-06, 6.47679713e-07, 1.79356757e-05, 2.59142806e-04,\n",
       "        1.31706605e-04, 2.97143397e-05, 1.31447596e-04, 6.80490803e-06,\n",
       "        1.76207013e-05, 1.69091945e-05, 8.75532060e-05, 4.34126378e-05,\n",
       "        1.04099945e-05, 1.64608835e-04, 5.94819221e-06, 8.26105520e-07,\n",
       "        3.01329332e-04, 7.93532593e-07, 1.35123279e-04, 1.28063803e-05,\n",
       "        4.24336667e-06, 1.78224418e-05, 7.52909614e-07, 2.15177410e-04,\n",
       "        1.80437855e-04, 2.01899238e-05, 3.24919802e-06, 2.09153841e-05,\n",
       "        1.11914028e-06, 1.71339852e-05, 7.92415995e-06, 7.90334434e-06,\n",
       "        8.74896534e-04, 3.79759113e-05, 1.71296483e-06, 8.05194122e-06,\n",
       "        8.88379218e-05, 9.37538971e-06, 2.90317694e-04, 5.59430873e-06,\n",
       "        2.77640743e-06, 1.50218386e-06, 7.73239208e-06, 3.82952067e-06,\n",
       "        5.43914939e-05, 6.48140940e-06, 3.25263172e-05, 1.29851333e-05,\n",
       "        7.06596766e-05, 6.76319723e-06, 1.13461923e-04, 6.96969801e-04,\n",
       "        5.78700747e-05, 3.45547487e-05, 2.95821694e-04, 3.26259624e-06,\n",
       "        7.79236580e-05, 3.67001157e-05, 7.32440531e-05, 4.06193112e-06,\n",
       "        3.87051432e-06, 7.89181377e-06, 4.20876268e-06, 6.30947216e-06,\n",
       "        1.56216868e-06, 6.96848417e-07, 1.38011592e-05, 1.22752332e-04,\n",
       "        4.06793843e-05, 2.04259904e-05, 3.71403403e-05, 3.88357739e-06,\n",
       "        1.96641748e-04, 1.28856191e-05, 9.64521405e-06, 1.27462254e-05,\n",
       "        3.66859604e-06, 1.34731017e-04, 1.57661088e-05, 2.03478103e-05,\n",
       "        5.00925262e-06, 1.07637199e-04, 1.47332366e-05, 2.43612703e-05,\n",
       "        2.65678591e-06, 7.75026547e-06, 1.12229818e-05, 1.26198222e-06,\n",
       "        4.18092131e-05, 8.67440394e-05, 1.15733965e-05, 4.09563654e-06,\n",
       "        7.50480558e-06, 2.00063732e-06, 9.86902087e-05, 1.38213773e-05,\n",
       "        8.83855500e-06, 1.90654350e-06, 3.81114000e-06, 4.07136923e-07,\n",
       "        2.66610596e-06, 7.40248242e-06, 9.44832354e-05, 8.62283399e-04,\n",
       "        4.92202730e-07, 4.49304280e-05, 2.84902990e-06, 2.76593018e-05,\n",
       "        2.09961931e-04, 1.19833267e-05, 1.83264929e-05, 4.62013395e-06,\n",
       "        3.94864567e-03, 2.20938709e-05, 1.52965862e-04, 6.68759469e-07,\n",
       "        7.19555654e-04, 1.26854948e-05, 8.56394649e-07, 9.14484735e-06,\n",
       "        7.72587646e-06, 7.65783989e-06, 2.41675189e-05, 5.59490388e-07,\n",
       "        1.44195565e-05, 3.22798905e-06, 5.35825347e-06, 8.61272129e-05,\n",
       "        1.84488035e-05, 5.14082640e-05, 8.84984092e-06, 6.39817881e-05,\n",
       "        1.36816176e-04, 5.19304303e-05, 4.58414070e-06, 3.09874995e-05,\n",
       "        1.81069729e-04, 1.32391913e-04, 7.65258796e-04, 4.63397446e-05,\n",
       "        1.14736220e-04, 2.57961460e-06, 7.78100002e-06, 1.12252828e-05,\n",
       "        5.59148702e-06, 8.92639855e-06, 4.27345094e-06, 1.90743458e-06,\n",
       "        3.77541687e-06, 1.77607653e-05, 8.42740064e-06, 2.16180342e-05,\n",
       "        4.73491673e-05, 9.43980240e-07, 2.53584476e-05, 1.57941304e-05,\n",
       "        2.05154993e-05, 1.98125999e-05, 3.52956049e-05, 6.85678853e-04,\n",
       "        1.55161124e-05, 2.58974433e-05, 1.00081297e-05, 1.79633371e-05,\n",
       "        2.36779262e-04, 3.51242011e-06, 1.19124543e-05, 5.56329207e-04,\n",
       "        1.12107009e-05, 1.66612968e-04, 8.35364062e-06, 1.25851557e-05,\n",
       "        7.44093632e-06, 4.87525222e-06, 4.62422249e-05, 6.50326328e-05,\n",
       "        3.56985802e-05, 6.09634117e-05, 4.09294043e-05, 1.12569833e-04,\n",
       "        7.34548530e-06, 3.02814965e-06, 3.54882475e-04, 4.60818919e-05,\n",
       "        1.33295134e-05, 1.98264370e-05, 1.47434429e-03, 5.15000920e-06,\n",
       "        2.54644001e-05, 3.88732187e-05, 1.14852701e-05, 4.67309701e-06,\n",
       "        4.52210254e-04, 8.30459066e-06, 3.88328481e-04, 3.28100105e-05,\n",
       "        1.93340147e-05, 1.12917929e-04, 5.54748249e-06, 5.73362231e-05,\n",
       "        1.60256786e-05, 8.97231530e-06, 3.30012772e-05, 2.14726424e-05,\n",
       "        1.08206310e-04, 2.56053481e-05, 3.36379235e-05, 2.07409648e-05,\n",
       "        9.00131909e-06, 1.72267737e-05, 7.25772679e-06, 1.07850101e-05,\n",
       "        5.29255612e-06, 8.18666922e-06, 1.86272126e-04, 4.66438360e-06,\n",
       "        1.10603496e-05, 1.00274374e-05, 4.21109326e-05, 2.89850122e-05,\n",
       "        2.14618645e-04, 3.88364249e-04, 2.05497272e-05, 2.27432865e-05,\n",
       "        3.61385428e-05, 1.34039337e-05, 3.56595730e-04, 3.16447491e-04,\n",
       "        5.06902812e-04, 9.03646753e-04, 1.65369293e-05, 4.48905994e-05,\n",
       "        1.95798639e-04, 3.26010538e-03, 8.99586030e-06, 9.89408818e-06,\n",
       "        5.85187627e-06, 1.89638758e-05, 3.09536631e-06, 3.13661928e-07,\n",
       "        1.80339375e-05, 3.29432165e-04, 1.53440065e-04, 4.47675557e-05,\n",
       "        3.32672964e-04, 6.70927284e-06, 3.36078938e-06, 2.03475109e-04,\n",
       "        3.39860594e-06, 1.57540780e-04, 1.43807119e-06, 3.54709869e-06,\n",
       "        2.76903011e-04, 6.84589907e-07, 1.07109065e-06, 6.95715244e-06,\n",
       "        6.36074765e-06, 4.58670729e-06, 1.13694265e-03, 1.27820997e-04,\n",
       "        7.46497171e-05, 7.14068010e-05, 2.42383908e-06, 7.02775151e-06,\n",
       "        2.95187183e-05, 4.53550638e-06, 8.87208735e-05, 2.74657737e-04,\n",
       "        8.34738057e-06, 2.13201656e-06, 4.13318121e-05, 3.45731542e-06,\n",
       "        8.62968664e-05, 4.96875618e-05, 3.35742894e-04, 2.34997106e-06,\n",
       "        4.32001718e-04, 1.23569640e-04, 1.25097387e-04, 1.03751174e-03,\n",
       "        3.95252255e-06, 9.35029457e-05, 4.85512203e-07, 4.66255142e-06,\n",
       "        8.44405349e-06, 1.90240780e-06, 3.95062889e-05, 4.21180812e-05,\n",
       "        1.57587731e-03, 8.25901134e-06, 1.88890510e-06, 1.22067950e-05,\n",
       "        1.97001282e-06, 1.62727144e-06, 2.62656226e-06, 9.30084207e-06,\n",
       "        1.21897638e-05, 5.35106083e-05, 1.67692888e-05, 4.23465463e-06,\n",
       "        9.75162834e-07, 9.44047351e-05, 2.30568594e-06, 1.23498660e-06,\n",
       "        2.27114469e-05, 4.91845867e-06, 3.73127041e-05, 7.15239185e-06,\n",
       "        7.14660389e-04, 2.62802564e-06, 5.23047174e-06, 9.35549906e-06,\n",
       "        2.40325273e-04, 1.55773178e-05, 3.64138714e-06, 1.53978399e-04,\n",
       "        4.22359371e-05, 1.01619635e-05, 2.36403248e-05, 5.86234955e-06,\n",
       "        2.00627369e-06, 1.35908467e-05, 4.69194629e-06, 7.83670475e-06,\n",
       "        3.03800152e-06, 2.47491316e-05, 1.79728831e-05, 7.55691435e-05,\n",
       "        3.29518866e-06, 3.84462237e-06, 3.17407876e-06, 4.05340074e-07,\n",
       "        2.34041781e-05, 9.58981254e-05, 1.61987511e-04, 1.20529097e-04,\n",
       "        1.41891326e-06, 3.78903724e-06, 3.06586844e-05, 1.86329416e-05,\n",
       "        1.04460942e-05, 5.58258944e-06, 1.44192672e-05, 9.50118647e-06,\n",
       "        1.49008315e-06, 7.78410686e-05, 1.92144726e-04, 7.55666581e-04,\n",
       "        1.55931164e-04, 1.36628478e-06, 3.39862549e-06, 8.15335734e-05,\n",
       "        6.11915993e-06, 2.74067702e-06, 7.27149018e-05, 6.67553559e-06,\n",
       "        3.80408824e-06, 2.16085118e-05, 1.36472465e-06, 5.02937610e-06,\n",
       "        3.95056486e-05, 1.70424244e-06, 8.87244641e-06, 5.21247057e-06,\n",
       "        4.80659446e-06, 5.64104237e-04, 1.05474755e-04, 1.74857269e-05,\n",
       "        1.35986256e-05, 7.04460763e-06, 2.31711438e-05, 2.32642287e-05,\n",
       "        8.96131460e-05, 1.47458595e-05, 8.68569114e-05, 3.64369880e-05,\n",
       "        6.60127535e-06, 1.83650252e-06, 2.06776658e-05, 1.38868912e-04,\n",
       "        1.38197956e-05, 1.11016479e-05, 4.12114503e-07, 8.52196899e-05,\n",
       "        3.89090856e-05, 4.50976368e-05, 1.02027589e-05, 9.12709129e-06,\n",
       "        1.25836796e-05, 5.40323308e-05, 9.06145870e-05, 1.14996226e-04,\n",
       "        3.07014343e-05, 1.38779606e-05, 1.51825216e-05, 5.59713726e-06,\n",
       "        2.12752275e-05, 2.86045368e-04, 1.53175570e-05, 1.02594468e-05,\n",
       "        3.82968847e-06, 8.34681996e-05, 3.69605755e-06, 3.06773586e-06,\n",
       "        9.32655712e-06, 3.12355223e-06, 4.51001724e-05, 1.22336114e-05,\n",
       "        2.52668979e-04, 8.57231862e-06, 1.32247478e-05, 1.40927106e-04,\n",
       "        1.27585572e-05, 1.80366798e-04, 7.13200207e-05, 1.73501139e-05,\n",
       "        2.11613929e-06, 7.21611359e-05, 6.13654538e-06, 6.92301410e-06,\n",
       "        6.42052282e-06, 4.52040968e-06, 2.57841037e-07, 4.99274116e-04,\n",
       "        7.01172485e-06, 8.89007595e-07, 4.17575320e-05, 5.75915692e-06,\n",
       "        6.26702013e-06, 9.16245517e-06, 3.02189210e-06, 1.38785826e-05,\n",
       "        6.28222842e-05, 4.22443554e-05, 4.87157609e-04, 1.72981468e-04]],\n",
       "      dtype=float32)"
      ]
     },
     "execution_count": 7,
     "metadata": {},
     "output_type": "execute_result"
    }
   ],
   "source": [
    "from keras.applications import resnet50\n",
    "\n",
    "trained_model_test(resnet50.ResNet50, (224,224), resnet50.preprocess_input, resnet50.decode_predictions)"
   ]
  },
  {
   "cell_type": "markdown",
   "metadata": {},
   "source": [
    "- Xception"
   ]
  },
  {
   "cell_type": "code",
   "execution_count": 17,
   "metadata": {},
   "outputs": [
    {
     "name": "stdout",
     "output_type": "stream",
     "text": [
      "predicted: [('n02106550', 'Rottweiler', 0.9479482), ('n02105412', 'kelpie', 0.0116197495), ('n02107142', 'Doberman', 0.006018338)]\n"
     ]
    }
   ],
   "source": [
    "from keras.applications import xception\n",
    "\n",
    "trained_model_test(xception.Xception, (299,299), xception.preprocess_input, xception.decode_predictions)"
   ]
  },
  {
   "cell_type": "markdown",
   "metadata": {},
   "source": [
    "- Inception V3"
   ]
  },
  {
   "cell_type": "code",
   "execution_count": 5,
   "metadata": {},
   "outputs": [
    {
     "name": "stdout",
     "output_type": "stream",
     "text": [
      "predicted: [('n02106550', 'Rottweiler', 0.90469307), ('n02089078', 'black-and-tan_coonhound', 0.02317639), ('n02105412', 'kelpie', 0.010496103)]\n"
     ]
    }
   ],
   "source": [
    "from keras.applications import inception_v3\n",
    "\n",
    "trained_model_test(inception_v3.InceptionV3, (299,299), inception_v3.preprocess_input, inception_v3.decode_predictions)"
   ]
  },
  {
   "cell_type": "markdown",
   "metadata": {},
   "source": [
    "### 特征迁移"
   ]
  },
  {
   "cell_type": "markdown",
   "metadata": {},
   "source": [
    "#### 准备训练集和测试集\n",
    "对于样本数非常多的数据集，可以利用generator函数来减少计算的次数"
   ]
  },
  {
   "cell_type": "code",
   "execution_count": 16,
   "metadata": {},
   "outputs": [
    {
     "name": "stdout",
     "output_type": "stream",
     "text": [
      "Found 25000 images belonging to 2 classes.\n",
      "Found 0 images belonging to 0 classes.\n"
     ]
    }
   ],
   "source": [
    "from keras.preprocessing.image import *\n",
    "\n",
    "image_size = (224,224)\n",
    "\n",
    "image_gen = ImageDataGenerator()\n",
    "train_generator = image_gen.flow_from_directory('train2', \n",
    "                                                target_size=image_size, \n",
    "                                                shuffle=False, # our data will be in order\n",
    "                                                batch_size=16)\n",
    "test_generator = image_gen.flow_from_directory('test', \n",
    "                                               target_size=image_size, \n",
    "                                               shuffle=False, # our data will be in order\n",
    "                                               batch_size=16, \n",
    "                                               class_mode=None, # this means our generator will only yield batches of data, no labels\n",
    "                                              )\n"
   ]
  },
  {
   "cell_type": "markdown",
   "metadata": {},
   "source": [
    "#### 提取特征\n",
    "- 利用 pre-trained 模型从train/test dataset中提取出特征，然后使用自定义的fully-connected层在这些提取的特征集上训练"
   ]
  },
  {
   "cell_type": "code",
   "execution_count": null,
   "metadata": {},
   "outputs": [],
   "source": [
    "from keras.applications import resnet50\n",
    "import h5py\n",
    "\n",
    "x = Input((image_size[0], image_size[1], 3)) # shape: width, height, channel\n",
    "base_model = resnet50.ResNet50(input_tensor=resnet50.preprocess_input(x) weights='imagenet')\n",
    "model = Model(base_mode.input, GlobalAveragePooling2D()(base_model.output))\n",
    "\n",
    "# the predict_generator method returns the output of a model, given\n",
    "# a generator that yields batches of numpy data\n",
    "bottleneck_features_train = model.predict_generator(train_generator, train_generator.nb_sample)\n",
    "# save the output as a Numpy array\n",
    "# np.save(open('bottleneck_features_train.npy', 'w'), bottleneck_features_train)\n",
    "\n",
    "bottleneck_features_test = model.predict_generator(test_generator, test_generator.nb_sample)\n",
    "# np.save(open('bottleneck_features_test.npy', 'w'), bottleneck_features_test)\n",
    "\n",
    "# save train features, train labels, test features to one file\n",
    "with h5py.File(\"pre_out\") as h:\n",
    "        h.create_dataset(\"train\", data=bottleneck_features_train)\n",
    "        h.create_dataset(\"label\", data=train_generator.classes)\n",
    "        h.create_dataset(\"test\", data=bottleneck_features_test)"
   ]
  },
  {
   "cell_type": "markdown",
   "metadata": {},
   "source": [
    "- 为了增加代码复用，方便调试其它的pre-trained model，将上面的2个步骤封装为一个函数"
   ]
  },
  {
   "cell_type": "code",
   "execution_count": 16,
   "metadata": {},
   "outputs": [],
   "source": [
    "from keras.preprocessing.image import *\n",
    "from keras.applications import resnet50\n",
    "from keras.applications import xception\n",
    "from keras.applications import inception_v3\n",
    "import h5py\n",
    "\n",
    "def get_pre_features_from_images(MODEL, image_size, preprocess_input, model_name):\n",
    "    image_gen = ImageDataGenerator()\n",
    "    train_generator = image_gen.flow_from_directory('train2', \n",
    "                                                target_size=image_size, \n",
    "                                                shuffle=False, # our data will be in order\n",
    "                                                batch_size=16)\n",
    "    \n",
    "    test_generator = image_gen.flow_from_directory('test', \n",
    "                                               target_size=image_size, \n",
    "                                               shuffle=False, # our data will be in order\n",
    "                                               batch_size=16, \n",
    "                                               class_mode=None, # this means our generator will only yield batches of data, no labels\n",
    "                                              )\n",
    "    \n",
    "    ## use pre-trained model to get features from image generator\n",
    "    x = Input((image_size[0], image_size[1], 3)) # shape: width, height, channel\n",
    "    x = preprocess_input(x)\n",
    "    base_model = MODLE(input_tensor=x, weights='imagenet')\n",
    "    \n",
    "    # the predict_generator method returns the output of a model, given\n",
    "    # a generator that yields batches of numpy data\n",
    "    pre_features_train = base_model.predict_generator(train_generator, train_generator.nb_sample)\n",
    "    pre_features_test = model.predict_generator(test_generator, test_generator.nb_sample)\n",
    "    \n",
    "    # save the output to h5 file\n",
    "    out_filename = model_name + \"_pre_out.h5\"\n",
    "    with h5py.File(out_filename) as h:\n",
    "        h.create_dataset(\"train\", data=pre_features_train)\n",
    "        h.create_dataset(\"label\", data=train_generator.classes)\n",
    "        h.create_dataset(\"test\", data=pre_features_test)\n",
    "        \n",
    "get_pre_features_from_images(resnet50.ResNet50, (224,224), resnet50.preprocess_input, \"resnet50\")"
   ]
  },
  {
   "cell_type": "markdown",
   "metadata": {},
   "source": [
    "#### 载入数据"
   ]
  },
  {
   "cell_type": "code",
   "execution_count": 12,
   "metadata": {},
   "outputs": [
    {
     "ename": "OSError",
     "evalue": "Unable to open file (unable to open file: name = 'pre_features_train', errno = 2, error message = 'No such file or directory', flags = 0, o_flags = 0)",
     "output_type": "error",
     "traceback": [
      "\u001b[0;31m---------------------------------------------------------------------------\u001b[0m",
      "\u001b[0;31mOSError\u001b[0m                                   Traceback (most recent call last)",
      "\u001b[0;32m<ipython-input-12-1b03edeb0705>\u001b[0m in \u001b[0;36m<module>\u001b[0;34m()\u001b[0m\n\u001b[1;32m      7\u001b[0m \u001b[0mtest_data\u001b[0m \u001b[0;34m=\u001b[0m \u001b[0;34m[\u001b[0m\u001b[0;34m]\u001b[0m\u001b[0;34m\u001b[0m\u001b[0m\n\u001b[1;32m      8\u001b[0m \u001b[0;34m\u001b[0m\u001b[0m\n\u001b[0;32m----> 9\u001b[0;31m \u001b[0;32mwith\u001b[0m \u001b[0mh5py\u001b[0m\u001b[0;34m.\u001b[0m\u001b[0mFile\u001b[0m\u001b[0;34m(\u001b[0m\u001b[0;34m'pre_features_train'\u001b[0m\u001b[0;34m,\u001b[0m \u001b[0;34m'r'\u001b[0m\u001b[0;34m)\u001b[0m \u001b[0;32mas\u001b[0m \u001b[0mh\u001b[0m\u001b[0;34m:\u001b[0m\u001b[0;34m\u001b[0m\u001b[0m\n\u001b[0m\u001b[1;32m     10\u001b[0m     \u001b[0mtrain_data\u001b[0m\u001b[0;34m.\u001b[0m\u001b[0mappend\u001b[0m\u001b[0;34m(\u001b[0m\u001b[0mnp\u001b[0m\u001b[0;34m.\u001b[0m\u001b[0marray\u001b[0m\u001b[0;34m(\u001b[0m\u001b[0mh\u001b[0m\u001b[0;34m[\u001b[0m\u001b[0;34m'train'\u001b[0m\u001b[0;34m]\u001b[0m\u001b[0;34m)\u001b[0m\u001b[0;34m)\u001b[0m\u001b[0;34m\u001b[0m\u001b[0m\n\u001b[1;32m     11\u001b[0m     \u001b[0mtrain_labels\u001b[0m \u001b[0;34m=\u001b[0m \u001b[0mnp\u001b[0m\u001b[0;34m.\u001b[0m\u001b[0marray\u001b[0m\u001b[0;34m(\u001b[0m\u001b[0mh\u001b[0m\u001b[0;34m[\u001b[0m\u001b[0;34m'label'\u001b[0m\u001b[0;34m]\u001b[0m\u001b[0;34m)\u001b[0m\u001b[0;34m\u001b[0m\u001b[0m\n",
      "\u001b[0;32m/usr/local/lib/python3.5/dist-packages/h5py/_hl/files.py\u001b[0m in \u001b[0;36m__init__\u001b[0;34m(self, name, mode, driver, libver, userblock_size, swmr, **kwds)\u001b[0m\n\u001b[1;32m    310\u001b[0m             \u001b[0;32mwith\u001b[0m \u001b[0mphil\u001b[0m\u001b[0;34m:\u001b[0m\u001b[0;34m\u001b[0m\u001b[0m\n\u001b[1;32m    311\u001b[0m                 \u001b[0mfapl\u001b[0m \u001b[0;34m=\u001b[0m \u001b[0mmake_fapl\u001b[0m\u001b[0;34m(\u001b[0m\u001b[0mdriver\u001b[0m\u001b[0;34m,\u001b[0m \u001b[0mlibver\u001b[0m\u001b[0;34m,\u001b[0m \u001b[0;34m**\u001b[0m\u001b[0mkwds\u001b[0m\u001b[0;34m)\u001b[0m\u001b[0;34m\u001b[0m\u001b[0m\n\u001b[0;32m--> 312\u001b[0;31m                 \u001b[0mfid\u001b[0m \u001b[0;34m=\u001b[0m \u001b[0mmake_fid\u001b[0m\u001b[0;34m(\u001b[0m\u001b[0mname\u001b[0m\u001b[0;34m,\u001b[0m \u001b[0mmode\u001b[0m\u001b[0;34m,\u001b[0m \u001b[0muserblock_size\u001b[0m\u001b[0;34m,\u001b[0m \u001b[0mfapl\u001b[0m\u001b[0;34m,\u001b[0m \u001b[0mswmr\u001b[0m\u001b[0;34m=\u001b[0m\u001b[0mswmr\u001b[0m\u001b[0;34m)\u001b[0m\u001b[0;34m\u001b[0m\u001b[0m\n\u001b[0m\u001b[1;32m    313\u001b[0m \u001b[0;34m\u001b[0m\u001b[0m\n\u001b[1;32m    314\u001b[0m                 \u001b[0;32mif\u001b[0m \u001b[0mswmr_support\u001b[0m\u001b[0;34m:\u001b[0m\u001b[0;34m\u001b[0m\u001b[0m\n",
      "\u001b[0;32m/usr/local/lib/python3.5/dist-packages/h5py/_hl/files.py\u001b[0m in \u001b[0;36mmake_fid\u001b[0;34m(name, mode, userblock_size, fapl, fcpl, swmr)\u001b[0m\n\u001b[1;32m    140\u001b[0m         \u001b[0;32mif\u001b[0m \u001b[0mswmr\u001b[0m \u001b[0;32mand\u001b[0m \u001b[0mswmr_support\u001b[0m\u001b[0;34m:\u001b[0m\u001b[0;34m\u001b[0m\u001b[0m\n\u001b[1;32m    141\u001b[0m             \u001b[0mflags\u001b[0m \u001b[0;34m|=\u001b[0m \u001b[0mh5f\u001b[0m\u001b[0;34m.\u001b[0m\u001b[0mACC_SWMR_READ\u001b[0m\u001b[0;34m\u001b[0m\u001b[0m\n\u001b[0;32m--> 142\u001b[0;31m         \u001b[0mfid\u001b[0m \u001b[0;34m=\u001b[0m \u001b[0mh5f\u001b[0m\u001b[0;34m.\u001b[0m\u001b[0mopen\u001b[0m\u001b[0;34m(\u001b[0m\u001b[0mname\u001b[0m\u001b[0;34m,\u001b[0m \u001b[0mflags\u001b[0m\u001b[0;34m,\u001b[0m \u001b[0mfapl\u001b[0m\u001b[0;34m=\u001b[0m\u001b[0mfapl\u001b[0m\u001b[0;34m)\u001b[0m\u001b[0;34m\u001b[0m\u001b[0m\n\u001b[0m\u001b[1;32m    143\u001b[0m     \u001b[0;32melif\u001b[0m \u001b[0mmode\u001b[0m \u001b[0;34m==\u001b[0m \u001b[0;34m'r+'\u001b[0m\u001b[0;34m:\u001b[0m\u001b[0;34m\u001b[0m\u001b[0m\n\u001b[1;32m    144\u001b[0m         \u001b[0mfid\u001b[0m \u001b[0;34m=\u001b[0m \u001b[0mh5f\u001b[0m\u001b[0;34m.\u001b[0m\u001b[0mopen\u001b[0m\u001b[0;34m(\u001b[0m\u001b[0mname\u001b[0m\u001b[0;34m,\u001b[0m \u001b[0mh5f\u001b[0m\u001b[0;34m.\u001b[0m\u001b[0mACC_RDWR\u001b[0m\u001b[0;34m,\u001b[0m \u001b[0mfapl\u001b[0m\u001b[0;34m=\u001b[0m\u001b[0mfapl\u001b[0m\u001b[0;34m)\u001b[0m\u001b[0;34m\u001b[0m\u001b[0m\n",
      "\u001b[0;32mh5py/_objects.pyx\u001b[0m in \u001b[0;36mh5py._objects.with_phil.wrapper\u001b[0;34m()\u001b[0m\n",
      "\u001b[0;32mh5py/_objects.pyx\u001b[0m in \u001b[0;36mh5py._objects.with_phil.wrapper\u001b[0;34m()\u001b[0m\n",
      "\u001b[0;32mh5py/h5f.pyx\u001b[0m in \u001b[0;36mh5py.h5f.open\u001b[0;34m()\u001b[0m\n",
      "\u001b[0;31mOSError\u001b[0m: Unable to open file (unable to open file: name = 'pre_features_train', errno = 2, error message = 'No such file or directory', flags = 0, o_flags = 0)"
     ]
    }
   ],
   "source": [
    "import h5py\n",
    "import numpy as np\n",
    "from sklearn.utils import shuffle\n",
    "np.random.seed(66)\n",
    "\n",
    "train_data = []\n",
    "test_data = []\n",
    "\n",
    "#------- single pre-trained mode\n",
    "with h5py.File('ResNet50_pre_out.h5', 'r') as h:\n",
    "    train_data.append(np.array(h['train']))\n",
    "    train_labels = np.array(h['label'])\n",
    "    test_data.appen(np.array(h['test']))\n",
    "\n",
    "# \n",
    "train_data = np.concatenate(train_data, axis=1)\n",
    "test_data = np.concatenate(test_data, axis=1)\n",
    "\n",
    "# 预存的X_train, y_train是按顺序存放的，前12500是猫，后12500是狗, 这里打乱顺序，使之随机存放\n",
    "# Note: 打乱的是存放存放顺序，并不改变 X_train , y_train的对应关系\n",
    "train_data, train_labels = shuffle(train_data, train_labels)"
   ]
  },
  {
   "cell_type": "markdown",
   "metadata": {},
   "source": [
    "#### 构建模型\n",
    "- pre-trained模型已经训练过，所以不再需要fit， 除非又加入了新的layer构成了新模型"
   ]
  },
  {
   "cell_type": "code",
   "execution_count": 31,
   "metadata": {},
   "outputs": [
    {
     "ename": "TypeError",
     "evalue": "Tensor objects are not iterable when eager execution is not enabled. To iterate over this tensor use tf.map_fn.",
     "output_type": "error",
     "traceback": [
      "\u001b[0;31m---------------------------------------------------------------------------\u001b[0m",
      "\u001b[0;31mTypeError\u001b[0m                                 Traceback (most recent call last)",
      "\u001b[0;32m<ipython-input-31-10a769cf5244>\u001b[0m in \u001b[0;36m<module>\u001b[0;34m()\u001b[0m\n\u001b[1;32m      9\u001b[0m \u001b[0mmodel\u001b[0m \u001b[0;34m=\u001b[0m \u001b[0mSequential\u001b[0m\u001b[0;34m(\u001b[0m\u001b[0;34m)\u001b[0m\u001b[0;34m\u001b[0m\u001b[0m\n\u001b[1;32m     10\u001b[0m \u001b[0;31m# model.add(Flatten(input_shape=train_data.shape[1:]))\u001b[0m\u001b[0;34m\u001b[0m\u001b[0;34m\u001b[0m\u001b[0m\n\u001b[0;32m---> 11\u001b[0;31m \u001b[0mmodel\u001b[0m\u001b[0;34m.\u001b[0m\u001b[0madd\u001b[0m\u001b[0;34m(\u001b[0m\u001b[0mFlatten\u001b[0m\u001b[0;34m(\u001b[0m\u001b[0minput_shape\u001b[0m\u001b[0;34m=\u001b[0m\u001b[0mInput\u001b[0m\u001b[0;34m(\u001b[0m\u001b[0;34m[\u001b[0m\u001b[0;36m224\u001b[0m\u001b[0;34m,\u001b[0m\u001b[0;36m224\u001b[0m\u001b[0;34m,\u001b[0m\u001b[0;36m3\u001b[0m\u001b[0;34m]\u001b[0m\u001b[0;34m)\u001b[0m\u001b[0;34m)\u001b[0m\u001b[0;34m)\u001b[0m\u001b[0;34m\u001b[0m\u001b[0m\n\u001b[0m\u001b[1;32m     12\u001b[0m \u001b[0mmodel\u001b[0m\u001b[0;34m.\u001b[0m\u001b[0madd\u001b[0m\u001b[0;34m(\u001b[0m\u001b[0mDense\u001b[0m\u001b[0;34m(\u001b[0m\u001b[0;36m1\u001b[0m\u001b[0;34m,\u001b[0m \u001b[0mactivation\u001b[0m\u001b[0;34m=\u001b[0m\u001b[0;34m'relu'\u001b[0m\u001b[0;34m)\u001b[0m\u001b[0;34m)\u001b[0m\u001b[0;34m\u001b[0m\u001b[0m\n\u001b[1;32m     13\u001b[0m \u001b[0mmodel\u001b[0m\u001b[0;34m.\u001b[0m\u001b[0madd\u001b[0m\u001b[0;34m(\u001b[0m\u001b[0mDropout\u001b[0m\u001b[0;34m(\u001b[0m\u001b[0;36m0.5\u001b[0m\u001b[0;34m)\u001b[0m\u001b[0;34m)\u001b[0m\u001b[0;34m\u001b[0m\u001b[0m\n",
      "\u001b[0;32m/usr/local/lib/python3.5/dist-packages/keras/layers/core.py\u001b[0m in \u001b[0;36m__init__\u001b[0;34m(self, data_format, **kwargs)\u001b[0m\n\u001b[1;32m    497\u001b[0m \u001b[0;34m\u001b[0m\u001b[0m\n\u001b[1;32m    498\u001b[0m     \u001b[0;32mdef\u001b[0m \u001b[0m__init__\u001b[0m\u001b[0;34m(\u001b[0m\u001b[0mself\u001b[0m\u001b[0;34m,\u001b[0m \u001b[0mdata_format\u001b[0m\u001b[0;34m=\u001b[0m\u001b[0;32mNone\u001b[0m\u001b[0;34m,\u001b[0m \u001b[0;34m**\u001b[0m\u001b[0mkwargs\u001b[0m\u001b[0;34m)\u001b[0m\u001b[0;34m:\u001b[0m\u001b[0;34m\u001b[0m\u001b[0m\n\u001b[0;32m--> 499\u001b[0;31m         \u001b[0msuper\u001b[0m\u001b[0;34m(\u001b[0m\u001b[0mFlatten\u001b[0m\u001b[0;34m,\u001b[0m \u001b[0mself\u001b[0m\u001b[0;34m)\u001b[0m\u001b[0;34m.\u001b[0m\u001b[0m__init__\u001b[0m\u001b[0;34m(\u001b[0m\u001b[0;34m**\u001b[0m\u001b[0mkwargs\u001b[0m\u001b[0;34m)\u001b[0m\u001b[0;34m\u001b[0m\u001b[0m\n\u001b[0m\u001b[1;32m    500\u001b[0m         \u001b[0mself\u001b[0m\u001b[0;34m.\u001b[0m\u001b[0minput_spec\u001b[0m \u001b[0;34m=\u001b[0m \u001b[0mInputSpec\u001b[0m\u001b[0;34m(\u001b[0m\u001b[0mmin_ndim\u001b[0m\u001b[0;34m=\u001b[0m\u001b[0;36m3\u001b[0m\u001b[0;34m)\u001b[0m\u001b[0;34m\u001b[0m\u001b[0m\n\u001b[1;32m    501\u001b[0m         \u001b[0mself\u001b[0m\u001b[0;34m.\u001b[0m\u001b[0mdata_format\u001b[0m \u001b[0;34m=\u001b[0m \u001b[0mconv_utils\u001b[0m\u001b[0;34m.\u001b[0m\u001b[0mnormalize_data_format\u001b[0m\u001b[0;34m(\u001b[0m\u001b[0mdata_format\u001b[0m\u001b[0;34m)\u001b[0m\u001b[0;34m\u001b[0m\u001b[0m\n",
      "\u001b[0;32m/usr/local/lib/python3.5/dist-packages/keras/engine/base_layer.py\u001b[0m in \u001b[0;36m__init__\u001b[0;34m(self, **kwargs)\u001b[0m\n\u001b[1;32m    145\u001b[0m                     \u001b[0mbatch_size\u001b[0m \u001b[0;34m=\u001b[0m \u001b[0;32mNone\u001b[0m\u001b[0;34m\u001b[0m\u001b[0m\n\u001b[1;32m    146\u001b[0m                 batch_input_shape = (\n\u001b[0;32m--> 147\u001b[0;31m                     batch_size,) + tuple(kwargs['input_shape'])\n\u001b[0m\u001b[1;32m    148\u001b[0m             \u001b[0mself\u001b[0m\u001b[0;34m.\u001b[0m\u001b[0mbatch_input_shape\u001b[0m \u001b[0;34m=\u001b[0m \u001b[0mbatch_input_shape\u001b[0m\u001b[0;34m\u001b[0m\u001b[0m\n\u001b[1;32m    149\u001b[0m \u001b[0;34m\u001b[0m\u001b[0m\n",
      "\u001b[0;32m~/.local/lib/python3.5/site-packages/tensorflow/python/framework/ops.py\u001b[0m in \u001b[0;36m__iter__\u001b[0;34m(self)\u001b[0m\n\u001b[1;32m    437\u001b[0m     \u001b[0;32mif\u001b[0m \u001b[0;32mnot\u001b[0m \u001b[0mcontext\u001b[0m\u001b[0;34m.\u001b[0m\u001b[0mexecuting_eagerly\u001b[0m\u001b[0;34m(\u001b[0m\u001b[0;34m)\u001b[0m\u001b[0;34m:\u001b[0m\u001b[0;34m\u001b[0m\u001b[0m\n\u001b[1;32m    438\u001b[0m       raise TypeError(\n\u001b[0;32m--> 439\u001b[0;31m           \u001b[0;34m\"Tensor objects are not iterable when eager execution is not \"\u001b[0m\u001b[0;34m\u001b[0m\u001b[0m\n\u001b[0m\u001b[1;32m    440\u001b[0m           \"enabled. To iterate over this tensor use tf.map_fn.\")\n\u001b[1;32m    441\u001b[0m     \u001b[0mshape\u001b[0m \u001b[0;34m=\u001b[0m \u001b[0mself\u001b[0m\u001b[0;34m.\u001b[0m\u001b[0m_shape_tuple\u001b[0m\u001b[0;34m(\u001b[0m\u001b[0;34m)\u001b[0m\u001b[0;34m\u001b[0m\u001b[0m\n",
      "\u001b[0;31mTypeError\u001b[0m: Tensor objects are not iterable when eager execution is not enabled. To iterate over this tensor use tf.map_fn."
     ]
    }
   ],
   "source": [
    "## build model: xception + Dropout + Dense\n",
    "from keras.models import Sequential\n",
    "from keras.models import Model\n",
    "from keras.layers import GlobalAveragePooling2D\n",
    "from keras.layers import Activation, Dropout, Flatten, Dense\n",
    "\n",
    "# from keras.applications import xception\n",
    "\n",
    "model = Sequential()\n",
    "# model.add(Flatten(input_shape=train_data.shape[1:]))\n",
    "model.add(Flatten(input_shape=Input([224,224,3])))\n",
    "model.add(Dense(1, activation='relu'))\n",
    "model.add(Dropout(0.5))\n",
    "model.add(Dense(1, activation='sigmoid'))\n",
    "\n",
    "model.compile(optimizer='rmsprop',\n",
    "              loss='binary_crossentropy',\n",
    "              metrics=['accuracy'])"
   ]
  },
  {
   "cell_type": "markdown",
   "metadata": {},
   "source": [
    "#### 在pre-train features上训练模型"
   ]
  },
  {
   "cell_type": "code",
   "execution_count": 15,
   "metadata": {},
   "outputs": [
    {
     "ename": "NameError",
     "evalue": "name 'train_labels' is not defined",
     "output_type": "error",
     "traceback": [
      "\u001b[0;31m---------------------------------------------------------------------------\u001b[0m",
      "\u001b[0;31mNameError\u001b[0m                                 Traceback (most recent call last)",
      "\u001b[0;32m<ipython-input-15-aafd86b0a986>\u001b[0m in \u001b[0;36m<module>\u001b[0;34m()\u001b[0m\n\u001b[0;32m----> 1\u001b[0;31m model.fit(train_data, train_labels,\n\u001b[0m\u001b[1;32m      2\u001b[0m           \u001b[0mnb_epoch\u001b[0m\u001b[0;34m=\u001b[0m\u001b[0;36m8\u001b[0m\u001b[0;34m,\u001b[0m \u001b[0mbatch_size\u001b[0m\u001b[0;34m=\u001b[0m\u001b[0;36m128\u001b[0m\u001b[0;34m,\u001b[0m\u001b[0;34m\u001b[0m\u001b[0m\n\u001b[1;32m      3\u001b[0m           validation_split = 0.2)\n\u001b[1;32m      4\u001b[0m \u001b[0mmodel\u001b[0m\u001b[0;34m.\u001b[0m\u001b[0msave_weights\u001b[0m\u001b[0;34m(\u001b[0m\u001b[0;34m'model_w.h5'\u001b[0m\u001b[0;34m)\u001b[0m\u001b[0;34m\u001b[0m\u001b[0m\n",
      "\u001b[0;31mNameError\u001b[0m: name 'train_labels' is not defined"
     ]
    }
   ],
   "source": [
    "from keras.call_back import TensorBoard\n",
    "\n",
    "history = model.fit(train_data, train_labels,\n",
    "          nb_epoch=8, batch_size=128,\n",
    "          validation_split = 0.2,\n",
    "          )\n",
    "\n",
    "model.save_weights('model_w.h5')"
   ]
  },
  {
   "cell_type": "markdown",
   "metadata": {},
   "source": [
    "#### 模型可视化"
   ]
  },
  {
   "cell_type": "code",
   "execution_count": 29,
   "metadata": {},
   "outputs": [
    {
     "ename": "OSError",
     "evalue": "`pydot` failed to call GraphViz.Please install GraphViz (https://www.graphviz.org/) and ensure that its executables are in the $PATH.",
     "output_type": "error",
     "traceback": [
      "\u001b[0;31m---------------------------------------------------------------------------\u001b[0m",
      "\u001b[0;31mOSError\u001b[0m                                   Traceback (most recent call last)",
      "\u001b[0;32m/usr/local/lib/python3.5/dist-packages/keras/utils/vis_utils.py\u001b[0m in \u001b[0;36m_check_pydot\u001b[0;34m()\u001b[0m\n\u001b[1;32m     25\u001b[0m         \u001b[0;31m# to check the pydot/graphviz installation.\u001b[0m\u001b[0;34m\u001b[0m\u001b[0;34m\u001b[0m\u001b[0m\n\u001b[0;32m---> 26\u001b[0;31m         \u001b[0mpydot\u001b[0m\u001b[0;34m.\u001b[0m\u001b[0mDot\u001b[0m\u001b[0;34m.\u001b[0m\u001b[0mcreate\u001b[0m\u001b[0;34m(\u001b[0m\u001b[0mpydot\u001b[0m\u001b[0;34m.\u001b[0m\u001b[0mDot\u001b[0m\u001b[0;34m(\u001b[0m\u001b[0;34m)\u001b[0m\u001b[0;34m)\u001b[0m\u001b[0;34m\u001b[0m\u001b[0m\n\u001b[0m\u001b[1;32m     27\u001b[0m     \u001b[0;32mexcept\u001b[0m \u001b[0mOSError\u001b[0m\u001b[0;34m:\u001b[0m\u001b[0;34m\u001b[0m\u001b[0m\n",
      "\u001b[0;32m/usr/local/lib/python3.5/dist-packages/pydot.py\u001b[0m in \u001b[0;36mcreate\u001b[0;34m(self, prog, format, encoding)\u001b[0m\n\u001b[1;32m   1860\u001b[0m                 \u001b[0mshell\u001b[0m\u001b[0;34m=\u001b[0m\u001b[0;32mFalse\u001b[0m\u001b[0;34m,\u001b[0m\u001b[0;34m\u001b[0m\u001b[0m\n\u001b[0;32m-> 1861\u001b[0;31m                 stderr=subprocess.PIPE, stdout=subprocess.PIPE)\n\u001b[0m\u001b[1;32m   1862\u001b[0m         \u001b[0;32mexcept\u001b[0m \u001b[0mOSError\u001b[0m \u001b[0;32mas\u001b[0m \u001b[0me\u001b[0m\u001b[0;34m:\u001b[0m\u001b[0;34m\u001b[0m\u001b[0m\n",
      "\u001b[0;32m/usr/lib/python3.5/subprocess.py\u001b[0m in \u001b[0;36m__init__\u001b[0;34m(self, args, bufsize, executable, stdin, stdout, stderr, preexec_fn, close_fds, shell, cwd, env, universal_newlines, startupinfo, creationflags, restore_signals, start_new_session, pass_fds)\u001b[0m\n\u001b[1;32m    946\u001b[0m                                 \u001b[0merrread\u001b[0m\u001b[0;34m,\u001b[0m \u001b[0merrwrite\u001b[0m\u001b[0;34m,\u001b[0m\u001b[0;34m\u001b[0m\u001b[0m\n\u001b[0;32m--> 947\u001b[0;31m                                 restore_signals, start_new_session)\n\u001b[0m\u001b[1;32m    948\u001b[0m         \u001b[0;32mexcept\u001b[0m\u001b[0;34m:\u001b[0m\u001b[0;34m\u001b[0m\u001b[0m\n",
      "\u001b[0;32m/usr/lib/python3.5/subprocess.py\u001b[0m in \u001b[0;36m_execute_child\u001b[0;34m(self, args, executable, preexec_fn, close_fds, pass_fds, cwd, env, startupinfo, creationflags, shell, p2cread, p2cwrite, c2pread, c2pwrite, errread, errwrite, restore_signals, start_new_session)\u001b[0m\n\u001b[1;32m   1489\u001b[0m                             \u001b[0merrpipe_read\u001b[0m\u001b[0;34m,\u001b[0m \u001b[0merrpipe_write\u001b[0m\u001b[0;34m,\u001b[0m\u001b[0;34m\u001b[0m\u001b[0m\n\u001b[0;32m-> 1490\u001b[0;31m                             restore_signals, start_new_session, preexec_fn)\n\u001b[0m\u001b[1;32m   1491\u001b[0m                     \u001b[0mself\u001b[0m\u001b[0;34m.\u001b[0m\u001b[0m_child_created\u001b[0m \u001b[0;34m=\u001b[0m \u001b[0;32mTrue\u001b[0m\u001b[0;34m\u001b[0m\u001b[0m\n",
      "\u001b[0;31mOSError\u001b[0m: [Errno 12] Cannot allocate memory",
      "\nDuring handling of the above exception, another exception occurred:\n",
      "\u001b[0;31mOSError\u001b[0m                                   Traceback (most recent call last)",
      "\u001b[0;32m<ipython-input-29-edc5dd58eef1>\u001b[0m in \u001b[0;36m<module>\u001b[0;34m()\u001b[0m\n\u001b[1;32m      4\u001b[0m \u001b[0;34m\u001b[0m\u001b[0m\n\u001b[1;32m      5\u001b[0m \u001b[0;31m# plot_model(model, to_file='model.png', show_shapes='True')\u001b[0m\u001b[0;34m\u001b[0m\u001b[0;34m\u001b[0m\u001b[0m\n\u001b[0;32m----> 6\u001b[0;31m \u001b[0mSVG\u001b[0m\u001b[0;34m(\u001b[0m\u001b[0mmodel_to_dot\u001b[0m\u001b[0;34m(\u001b[0m\u001b[0mmodel\u001b[0m\u001b[0;34m)\u001b[0m\u001b[0;34m.\u001b[0m\u001b[0mcreate\u001b[0m\u001b[0;34m(\u001b[0m\u001b[0mprog\u001b[0m\u001b[0;34m=\u001b[0m\u001b[0;34m'dot'\u001b[0m\u001b[0;34m,\u001b[0m\u001b[0mformat\u001b[0m\u001b[0;34m=\u001b[0m\u001b[0;34m'svg'\u001b[0m\u001b[0;34m)\u001b[0m\u001b[0;34m)\u001b[0m\u001b[0;34m\u001b[0m\u001b[0m\n\u001b[0m",
      "\u001b[0;32m/usr/local/lib/python3.5/dist-packages/keras/utils/vis_utils.py\u001b[0m in \u001b[0;36mmodel_to_dot\u001b[0;34m(model, show_shapes, show_layer_names, rankdir)\u001b[0m\n\u001b[1;32m     53\u001b[0m     \u001b[0;32mfrom\u001b[0m \u001b[0;34m.\u001b[0m\u001b[0;34m.\u001b[0m\u001b[0mmodels\u001b[0m \u001b[0;32mimport\u001b[0m \u001b[0mSequential\u001b[0m\u001b[0;34m\u001b[0m\u001b[0m\n\u001b[1;32m     54\u001b[0m \u001b[0;34m\u001b[0m\u001b[0m\n\u001b[0;32m---> 55\u001b[0;31m     \u001b[0m_check_pydot\u001b[0m\u001b[0;34m(\u001b[0m\u001b[0;34m)\u001b[0m\u001b[0;34m\u001b[0m\u001b[0m\n\u001b[0m\u001b[1;32m     56\u001b[0m     \u001b[0mdot\u001b[0m \u001b[0;34m=\u001b[0m \u001b[0mpydot\u001b[0m\u001b[0;34m.\u001b[0m\u001b[0mDot\u001b[0m\u001b[0;34m(\u001b[0m\u001b[0;34m)\u001b[0m\u001b[0;34m\u001b[0m\u001b[0m\n\u001b[1;32m     57\u001b[0m     \u001b[0mdot\u001b[0m\u001b[0;34m.\u001b[0m\u001b[0mset\u001b[0m\u001b[0;34m(\u001b[0m\u001b[0;34m'rankdir'\u001b[0m\u001b[0;34m,\u001b[0m \u001b[0mrankdir\u001b[0m\u001b[0;34m)\u001b[0m\u001b[0;34m\u001b[0m\u001b[0m\n",
      "\u001b[0;32m/usr/local/lib/python3.5/dist-packages/keras/utils/vis_utils.py\u001b[0m in \u001b[0;36m_check_pydot\u001b[0;34m()\u001b[0m\n\u001b[1;32m     27\u001b[0m     \u001b[0;32mexcept\u001b[0m \u001b[0mOSError\u001b[0m\u001b[0;34m:\u001b[0m\u001b[0;34m\u001b[0m\u001b[0m\n\u001b[1;32m     28\u001b[0m         raise OSError(\n\u001b[0;32m---> 29\u001b[0;31m             \u001b[0;34m'`pydot` failed to call GraphViz.'\u001b[0m\u001b[0;34m\u001b[0m\u001b[0m\n\u001b[0m\u001b[1;32m     30\u001b[0m             \u001b[0;34m'Please install GraphViz (https://www.graphviz.org/) '\u001b[0m\u001b[0;34m\u001b[0m\u001b[0m\n\u001b[1;32m     31\u001b[0m             'and ensure that its executables are in the $PATH.')\n",
      "\u001b[0;31mOSError\u001b[0m: `pydot` failed to call GraphViz.Please install GraphViz (https://www.graphviz.org/) and ensure that its executables are in the $PATH."
     ]
    }
   ],
   "source": [
    "from IPython.display import SVG\n",
    "from keras.utils import plot_model\n",
    "from keras.utils.vis_utils import model_to_dot\n",
    "\n",
    "# plot_model(model, to_file='model.png', show_shapes='True')\n",
    "SVG(model_to_dot(model).create(prog='dot',format='svg'))"
   ]
  },
  {
   "cell_type": "markdown",
   "metadata": {},
   "source": [
    "#### predict测试集"
   ]
  },
  {
   "cell_type": "markdown",
   "metadata": {},
   "source": [
    "先来旧图试试"
   ]
  },
  {
   "cell_type": "code",
   "execution_count": null,
   "metadata": {},
   "outputs": [],
   "source": []
  },
  {
   "cell_type": "markdown",
   "metadata": {},
   "source": [
    "预测整个测试集"
   ]
  },
  {
   "cell_type": "code",
   "execution_count": null,
   "metadata": {},
   "outputs": [],
   "source": [
    "y_pred = model.predict(X_test, verbose=1)"
   ]
  },
  {
   "cell_type": "markdown",
   "metadata": {},
   "source": [
    "#### 写入kaggle smaple_submission.csv"
   ]
  },
  {
   "cell_type": "code",
   "execution_count": null,
   "metadata": {},
   "outputs": [],
   "source": [
    "y_pred = y_pred.clip(min=0.005, max=0.995)\n",
    "\n",
    "import pandas as pd\n",
    "from keras.preprocessing.image import *\n",
    "\n",
    "df = pd.read_csv(\"sample_submission.csv\")\n",
    "\n",
    "gen = ImageDataGenerator()\n",
    "test_generator = gen.flow_from_directory(\"test2\", (224, 224), shuffle=False, \n",
    "                                         batch_size=16, class_mode=None)\n",
    "\n",
    "for i, fname in enumerate(test_generator.filenames):\n",
    "    index = int(fname[fname.rfind('/')+1:fname.rfind('.')])\n",
    "    df.set_value(index-1, 'label', y_pred[i])\n",
    "\n",
    "df.to_csv('pred.csv', index=None)\n",
    "df.head(10)"
   ]
  }
 ],
 "metadata": {
  "kernelspec": {
   "display_name": "Python 3",
   "language": "python",
   "name": "python3"
  },
  "language_info": {
   "codemirror_mode": {
    "name": "ipython",
    "version": 3
   },
   "file_extension": ".py",
   "mimetype": "text/x-python",
   "name": "python",
   "nbconvert_exporter": "python",
   "pygments_lexer": "ipython3",
   "version": "3.5.2"
  }
 },
 "nbformat": 4,
 "nbformat_minor": 2
}
