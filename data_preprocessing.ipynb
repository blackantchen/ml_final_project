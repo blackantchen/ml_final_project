{
 "cells": [
  {
   "cell_type": "markdown",
   "metadata": {},
   "source": [
    "### 开始"
   ]
  },
  {
   "cell_type": "code",
   "execution_count": 1,
   "metadata": {},
   "outputs": [],
   "source": [
    "# 检查Python版本\n",
    "from sys import version_info\n",
    "if version_info.major != 3:\n",
    "    raise Exception('请使用Python3来完成此项目')"
   ]
  },
  {
   "cell_type": "markdown",
   "metadata": {},
   "source": [
    "### 数据预处理"
   ]
  },
  {
   "cell_type": "markdown",
   "metadata": {},
   "source": [
    "#### 获取数据\n",
    "[Dogs vs. Cats Redux: Kernels Edition\n",
    "](https://www.kaggle.com/c/dogs-vs-cats-redux-kernels-edition)"
   ]
  },
  {
   "cell_type": "code",
   "execution_count": 3,
   "metadata": {},
   "outputs": [
    {
     "name": "stdout",
     "output_type": "stream",
     "text": [
      "file is exist, no need download\n",
      "files found\n",
      "download now\n",
      "files found\n"
     ]
    }
   ],
   "source": [
    "# download data and unzip it\n",
    "# from urllib.request import urlretrieve\n",
    "import subprocess\n",
    "import os\n",
    "from tqdm import tqdm\n",
    "from zipfile import ZipFile\n",
    "\n",
    "train_url = ['kaggle','competitions','download','-c','dogs-vs-cats-redux-kernels-edition',\n",
    "            '-f','train.zip','-p','./']\n",
    "test_url = ['kaggle','competitions','download','-c','dogs-vs-cats-redux-kernels-edition',\n",
    "            '-f','test.zip','-p','./']\n",
    "sample_csv_url = ['kaggle','competitions','download','-c','dogs-vs-cats-redux-kernels-edition',\n",
    "                  '-f','sample_submission.csv','-p','./']\n",
    "\n",
    "\n",
    "def download_unzip_dataset(url, zip_file_path, folder_path, unzip=True):\n",
    "    if os.path.exists(zip_file_path):\n",
    "        print(\"file is exist, no need download\")\n",
    "    else:\n",
    "        print(\"download now\")\n",
    "#         urlretrieve(url, zip_file_path)\n",
    "        subp = subprocess.run(url)\n",
    "#         subp.wait()\n",
    "    \n",
    "    if unzip:\n",
    "        if os.path.exists(folder_path):\n",
    "            print(\"files found\")\n",
    "        else:\n",
    "            print(\"unzip now\")\n",
    "            zipf = ZipFile(zip_file_path)\n",
    "            zipf.extractall()\n",
    "            print(\"unzip end\")\n",
    "\n",
    "download_unzip_dataset(train_url, 'train.zip', 'train/')\n",
    "download_unzip_dataset(test_url, 'test.zip', 'test/')"
   ]
  },
  {
   "cell_type": "markdown",
   "metadata": {},
   "source": [
    "#### 分离数据集，dog和cat图片分别放入train2/dogs, train2/cats"
   ]
  },
  {
   "cell_type": "code",
   "execution_count": 4,
   "metadata": {},
   "outputs": [
    {
     "name": "stdout",
     "output_type": "stream",
     "text": [
      "split over\n"
     ]
    }
   ],
   "source": [
    "import os\n",
    "import shutil\n",
    "\n",
    "def split_train_set(old_dir, new_dir):\n",
    "    file_list = os.listdir(old_dir)\n",
    "    file_cats = filter(lambda x:x[:3] == 'cat', file_list)\n",
    "    file_dogs = filter(lambda x:x[:3] == 'dog', file_list)\n",
    "\n",
    "    if os.path.exists(new_dir):\n",
    "        shutil.rmtree(new_dir)\n",
    "    os.mkdir(new_dir)\n",
    "    \n",
    "    dogs_path = os.path.join(new_dir, 'dogs')\n",
    "    cats_path = os.path.join(new_dir, 'cats')\n",
    "    os.mkdir(dogs_path)\n",
    "    os.mkdir(cats_path)\n",
    "    \n",
    "    # 此处要注意： os.symlink(src, dst)\n",
    "    # dst是从它所在的目录去选择src,所以src必须是相对于dst的relative path\n",
    "    for filename in file_cats:\n",
    "        os.symlink('../../'+old_dir+filename, cats_path+'/'+filename)\n",
    "    \n",
    "    for filename in file_dogs:\n",
    "        os.symlink(old_dir+filename, dogs_path+'/'+filename)\n",
    "        \n",
    "    print(\"split over\")\n",
    "\n",
    "split_train_set('train/', 'train2/')\n"
   ]
  },
  {
   "cell_type": "markdown",
   "metadata": {},
   "source": [
    "### 导出特征集"
   ]
  },
  {
   "cell_type": "code",
   "execution_count": 12,
   "metadata": {},
   "outputs": [],
   "source": []
  },
  {
   "cell_type": "code",
   "execution_count": null,
   "metadata": {},
   "outputs": [],
   "source": []
  }
 ],
 "metadata": {
  "kernelspec": {
   "display_name": "Python 3",
   "language": "python",
   "name": "python3"
  },
  "language_info": {
   "codemirror_mode": {
    "name": "ipython",
    "version": 3
   },
   "file_extension": ".py",
   "mimetype": "text/x-python",
   "name": "python",
   "nbconvert_exporter": "python",
   "pygments_lexer": "ipython3",
   "version": "3.5.2"
  }
 },
 "nbformat": 4,
 "nbformat_minor": 2
}
