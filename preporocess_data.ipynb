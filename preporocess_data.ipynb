{
 "cells": [
  {
   "cell_type": "markdown",
   "metadata": {},
   "source": [
    "### 开始"
   ]
  },
  {
   "cell_type": "code",
   "execution_count": 1,
   "metadata": {},
   "outputs": [],
   "source": [
    "# 检查Python版本\n",
    "from sys import version_info\n",
    "if version_info.major != 3:\n",
    "    \n",
    "    raise Exception('请使用Python3来完成此项目')"
   ]
  },
  {
   "cell_type": "markdown",
   "metadata": {},
   "source": [
    "### 数据预处理"
   ]
  },
  {
   "cell_type": "markdown",
   "metadata": {},
   "source": [
    "#### 获取数据\n",
    "[Dogs vs. Cats Redux: Kernels Edition\n",
    "](https://www.kaggle.com/c/dogs-vs-cats-redux-kernels-edition)"
   ]
  },
  {
   "cell_type": "code",
   "execution_count": 2,
   "metadata": {},
   "outputs": [
    {
     "name": "stdout",
     "output_type": "stream",
     "text": [
      "file is exist, no need download\n",
      "files found\n",
      "file is exist, no need download\n",
      "files found\n"
     ]
    }
   ],
   "source": [
    "# download data and unzip it\n",
    "# from urllib.request import urlretrieve\n",
    "import subprocess\n",
    "import os\n",
    "from tqdm import tqdm\n",
    "from zipfile import ZipFile\n",
    "\n",
    "train_url = ['kaggle','competitions','download','-c','dogs-vs-cats-redux-kernels-edition',\n",
    "            '-f','train.zip','-p','./']\n",
    "test_url = ['kaggle','competitions','download','-c','dogs-vs-cats-redux-kernels-edition',\n",
    "            '-f','test.zip','-p','./']\n",
    "sample_csv_url = ['kaggle','competitions','download','-c','dogs-vs-cats-redux-kernels-edition',\n",
    "                  '-f','sample_submission.csv','-p','./']\n",
    "\n",
    "\n",
    "def download_unzip_dataset(url, zip_file_path, folder_path, unzip=True):\n",
    "    if os.path.exists(zip_file_path):\n",
    "        print(\"file is exist, no need download\")\n",
    "    else:\n",
    "        print(\"download now\")\n",
    "#         urlretrieve(url, zip_file_path)\n",
    "        subp = subprocess.run(url)\n",
    "#         subp.wait()\n",
    "    \n",
    "    if unzip:\n",
    "        if os.path.exists(folder_path):\n",
    "            print(\"files found\")\n",
    "        else:\n",
    "            print(\"unzip now\")\n",
    "            zipf = ZipFile(zip_file_path)\n",
    "            zipf.extractall()\n",
    "            print(\"unzip end\")\n",
    "\n",
    "download_unzip_dataset(train_url, 'train.zip', 'train/')\n",
    "download_unzip_dataset(test_url, 'test.zip', 'test/')"
   ]
  },
  {
   "cell_type": "markdown",
   "metadata": {},
   "source": [
    "#### 分离数据集，dog和cat图片分别放入train2/dogs, train2/cats"
   ]
  },
  {
   "cell_type": "code",
   "execution_count": 3,
   "metadata": {},
   "outputs": [
    {
     "name": "stdout",
     "output_type": "stream",
     "text": [
      "split over\n"
     ]
    }
   ],
   "source": [
    "import os\n",
    "import shutil\n",
    "\n",
    "def split_train_set(old_dir, new_dir):\n",
    "    file_list = os.listdir(old_dir)\n",
    "    file_cats = filter(lambda x:x[:3] == 'cat', file_list)\n",
    "    file_dogs = filter(lambda x:x[:3] == 'dog', file_list)\n",
    "\n",
    "    if os.path.exists(new_dir):\n",
    "        shutil.rmtree(new_dir)\n",
    "    os.mkdir(new_dir)\n",
    "    \n",
    "    dogs_path = os.path.join(new_dir, 'dogs')\n",
    "    cats_path = os.path.join(new_dir, 'cats')\n",
    "    os.mkdir(dogs_path)\n",
    "    os.mkdir(cats_path)\n",
    "    \n",
    "    # 此处要注意： os.symlink(src, dst)\n",
    "    # dst是从它所在的目录去选择src,所以src必须是相对于dst的relative path\n",
    "    for filename in file_cats:\n",
    "        os.symlink('../../'+old_dir+filename, cats_path+'/'+filename)\n",
    "    \n",
    "    for filename in file_dogs:\n",
    "        os.symlink(old_dir+filename, dogs_path+'/'+filename)\n",
    "        \n",
    "    print(\"split over\")\n",
    "\n",
    "split_train_set('train/', 'pre-train/')\n",
    "\n",
    "# preprocess test image folder\n",
    "if os.path.exists('pre-test'):\n",
    "    shutil.rmtree('pre-test')\n",
    "os.mkdir('pre-test')\n",
    "os.symlink('../test', 'pre-test/test')\n"
   ]
  },
  {
   "cell_type": "markdown",
   "metadata": {},
   "source": [
    "### 提取特征\n",
    "\n",
    "利用pre-trained model提取特征"
   ]
  },
  {
   "cell_type": "markdown",
   "metadata": {},
   "source": [
    "#### 准备训练集和测试集\n",
    "对于样本数非常多的数据集，可以利用generator函数来减少计算的次数"
   ]
  },
  {
   "cell_type": "code",
   "execution_count": 16,
   "metadata": {},
   "outputs": [
    {
     "name": "stdout",
     "output_type": "stream",
     "text": [
      "Found 25000 images belonging to 2 classes.\n",
      "Found 0 images belonging to 0 classes.\n"
     ]
    }
   ],
   "source": [
    "from keras.preprocessing.image import *\n",
    "\n",
    "image_size = (224,224)\n",
    "\n",
    "image_gen = ImageDataGenerator()\n",
    "train_generator = image_gen.flow_from_directory('pre-train', \n",
    "                                                target_size=image_size, \n",
    "                                                shuffle=False, # our data will be in order\n",
    "                                                batch_size=16)\n",
    "test_generator = image_gen.flow_from_directory('pre-test', \n",
    "                                               target_size=image_size, \n",
    "                                               shuffle=False, # our data will be in order\n",
    "                                               batch_size=16, \n",
    "                                               class_mode=None, # this means our generator will only yield batches of data, no labels\n",
    "                                              )\n"
   ]
  },
  {
   "cell_type": "markdown",
   "metadata": {},
   "source": [
    "#### 提取特征\n",
    "- 利用 pre-trained 模型从train/test dataset中提取出特征，然后使用自定义的fully-connected层在这些提取的特征集上训练"
   ]
  },
  {
   "cell_type": "code",
   "execution_count": null,
   "metadata": {},
   "outputs": [],
   "source": [
    "from keras.applications import resnet50\n",
    "import h5py\n",
    "\n",
    "x = Input((image_size[0], image_size[1], 3)) # shape: width, height, channel\n",
    "base_model = resnet50.ResNet50(input_tensor=resnet50.preprocess_input(x) weights='imagenet')\n",
    "\n",
    "# the predict_generator method returns the output of a model, given\n",
    "# a generator that yields batches of numpy data\n",
    "bottleneck_features_train = base_model.predict_generator(train_generator, train_generator.nb_sample)\n",
    "# save the output as a Numpy array\n",
    "# np.save(open('bottleneck_features_train.npy', 'w'), bottleneck_features_train)\n",
    "\n",
    "bottleneck_features_test = model.predict_generator(test_generator, test_generator.nb_sample)\n",
    "# np.save(open('bottleneck_features_test.npy', 'w'), bottleneck_features_test)\n",
    "\n",
    "with h5py.File(\"pre_out\") as h:\n",
    "        h.create_dataset(\"train\", data=bottleneck_features_train)\n",
    "        h.create_dataset(\"label\", data=train_generator.classes)\n",
    "        h.create_dataset(\"test\", data=bottleneck_features_test)"
   ]
  },
  {
   "cell_type": "markdown",
   "metadata": {},
   "source": [
    "#### 为了增加代码复用，方便调试其它的pre-trained model，将上面的2个步骤封装为一个函数"
   ]
  },
  {
   "cell_type": "code",
   "execution_count": 4,
   "metadata": {},
   "outputs": [],
   "source": [
    "from keras.preprocessing.image import *\n",
    "from keras.applications import resnet50\n",
    "from keras.applications import xception\n",
    "from keras.applications import inception_v3\n",
    "from keras.layers import Input, GlobalAveragePooling2D\n",
    "from keras.models import Model\n",
    "import h5py\n",
    "\n",
    "def get_pre_features_from_images(MODEL, image_size, preprocess_input, model_name):\n",
    "    image_gen = ImageDataGenerator()\n",
    "    train_generator = image_gen.flow_from_directory('pre-train', \n",
    "                                                target_size=image_size, \n",
    "                                                shuffle=False, # our data will be in order\n",
    "                                                batch_size=16)\n",
    "    \n",
    "    test_generator = image_gen.flow_from_directory('pre-test', \n",
    "                                               target_size=image_size, \n",
    "                                               shuffle=False, # our data will be in order\n",
    "                                               batch_size=16, \n",
    "                                               class_mode=None, # this means our generator will only yield batches of data, no labels\n",
    "                                              )\n",
    "    \n",
    "    ## use pre-trained model to get features from image generator\n",
    "    x = Input((image_size[0], image_size[1], 3)) # shape: width, height, channel\n",
    "    x = preprocess_input(x)\n",
    "    base_model = MODEL(input_tensor=x, weights='imagenet', include_top=False)\n",
    "    model = Model(base_model.input, GlobalAveragePooling2D()(base_model.output))\n",
    "    \n",
    "    # the predict_generator method returns the output of a model, given\n",
    "    # a generator that yields batches of numpy data\n",
    "    pre_features_train = model.predict_generator(train_generator)\n",
    "    pre_features_test = model.predict_generator(test_generator)\n",
    "    \n",
    "    # save the output to h5 file\n",
    "    out_filename = model_name + \"_pre_out.h5\"\n",
    "    with h5py.File(out_filename) as h:\n",
    "        h.create_dataset(\"train\", data=pre_features_train)\n",
    "        h.create_dataset(\"label\", data=train_generator.classes)\n",
    "        h.create_dataset(\"test\", data=pre_features_test)"
   ]
  },
  {
   "cell_type": "code",
   "execution_count": 5,
   "metadata": {},
   "outputs": [
    {
     "name": "stdout",
     "output_type": "stream",
     "text": [
      "Found 25000 images belonging to 2 classes.\n",
      "Found 12500 images belonging to 1 classes.\n"
     ]
    },
    {
     "ename": "ValueError",
     "evalue": "('Error when checking model input: expected no data, but got:', array([[[[203., 164.,  87.],\n         [206., 167.,  90.],\n         [209., 170.,  93.],\n         ...,\n         [245., 203., 119.],\n         [241., 202., 123.],\n         [239., 200., 121.]],\n\n        [[203., 164.,  87.],\n         [206., 167.,  90.],\n         [209., 170.,  93.],\n         ...,\n         [245., 205., 120.],\n         [242., 203., 124.],\n         [240., 201., 122.]],\n\n        [[203., 164.,  87.],\n         [206., 167.,  90.],\n         [209., 170.,  93.],\n         ...,\n         [245., 204., 122.],\n         [243., 204., 125.],\n         [241., 202., 123.]],\n\n        ...,\n\n        [[154., 123.,  56.],\n         [155., 124.,  57.],\n         [156., 125.,  58.],\n         ...,\n         [  3.,   3.,   1.],\n         [  3.,   3.,   1.],\n         [  3.,   3.,   1.]],\n\n        [[153., 122.,  55.],\n         [153., 122.,  55.],\n         [154., 123.,  56.],\n         ...,\n         [  2.,   2.,   0.],\n         [  2.,   2.,   0.],\n         [  2.,   2.,   0.]],\n\n        [[151., 120.,  53.],\n         [152., 121.,  54.],\n         [153., 122.,  55.],\n         ...,\n         [  1.,   1.,   0.],\n         [  1.,   1.,   0.],\n         [  1.,   1.,   0.]]],\n\n\n       [[[ 39.,  44.,  40.],\n         [ 40.,  44.,  43.],\n         [ 41.,  45.,  46.],\n         ...,\n         [210., 209., 181.],\n         [207., 204., 171.],\n         [201., 199., 161.]],\n\n        [[ 40.,  45.,  41.],\n         [ 40.,  44.,  43.],\n         [ 41.,  45.,  46.],\n         ...,\n         [207., 203., 176.],\n         [203., 200., 169.],\n         [197., 195., 157.]],\n\n        [[ 39.,  44.,  40.],\n         [ 38.,  42.,  41.],\n         [ 37.,  41.,  42.],\n         ...,\n         [195., 191., 166.],\n         [198., 193., 164.],\n         [205., 200., 168.]],\n\n        ...,\n\n        [[ 29.,  27.,  28.],\n         [ 25.,  23.,  24.],\n         [ 22.,  20.,  21.],\n         ...,\n         [ 50.,  37.,  31.],\n         [ 41.,  28.,  22.],\n         [ 49.,  38.,  32.]],\n\n        [[ 32.,  30.,  31.],\n         [ 26.,  24.,  25.],\n         [ 22.,  20.,  21.],\n         ...,\n         [ 44.,  31.,  23.],\n         [ 42.,  29.,  21.],\n         [ 55.,  45.,  36.]],\n\n        [[ 32.,  30.,  31.],\n         [ 25.,  23.,  24.],\n         [ 21.,  19.,  20.],\n         ...,\n         [ 59.,  46.,  38.],\n         [ 51.,  38.,  30.],\n         [ 40.,  30.,  21.]]],\n\n\n       [[[ 29.,  33.,  42.],\n         [ 19.,  23.,  32.],\n         [  8.,  12.,  23.],\n         ...,\n         [130., 162., 159.],\n         [128., 160., 157.],\n         [125., 157., 154.]],\n\n        [[ 36.,  40.,  49.],\n         [ 41.,  45.,  54.],\n         [ 31.,  35.,  46.],\n         ...,\n         [131., 163., 160.],\n         [129., 161., 158.],\n         [126., 158., 155.]],\n\n        [[ 38.,  45.,  51.],\n         [ 41.,  48.,  54.],\n         [ 37.,  44.,  52.],\n         ...,\n         [132., 164., 159.],\n         [129., 161., 156.],\n         [127., 159., 154.]],\n\n        ...,\n\n        [[178., 165., 120.],\n         [171., 158., 114.],\n         [169., 156., 112.],\n         ...,\n         [190., 188.,   9.],\n         [179., 174.,  12.],\n         [170., 163.,  13.]],\n\n        [[169., 156., 111.],\n         [170., 157., 112.],\n         [156., 143.,  99.],\n         ...,\n         [189., 186.,   9.],\n         [178., 173.,  11.],\n         [168., 161.,  11.]],\n\n        [[159., 145., 110.],\n         [147., 133.,  94.],\n         [150., 137.,  93.],\n         ...,\n         [189., 187.,   6.],\n         [180., 177.,   4.],\n         [172., 167.,   3.]]],\n\n\n       ...,\n\n\n       [[[175., 139., 107.],\n         [177., 141., 109.],\n         [178., 142., 110.],\n         ...,\n         [ 75.,  68.,  76.],\n         [ 69.,  62.,  70.],\n         [ 69.,  62.,  70.]],\n\n        [[175., 139., 107.],\n         [177., 141., 109.],\n         [178., 142., 110.],\n         ...,\n         [ 75.,  68.,  76.],\n         [ 73.,  66.,  74.],\n         [ 73.,  66.,  74.]],\n\n        [[175., 139., 107.],\n         [177., 141., 109.],\n         [178., 142., 110.],\n         ...,\n         [ 75.,  68.,  76.],\n         [ 75.,  68.,  76.],\n         [ 75.,  68.,  76.]],\n\n        ...,\n\n        [[220., 168., 111.],\n         [198., 146.,  89.],\n         [182., 130.,  73.],\n         ...,\n         [178., 126.,  76.],\n         [184., 132.,  82.],\n         [187., 135.,  85.]],\n\n        [[189., 137.,  80.],\n         [198., 146.,  89.],\n         [205., 153.,  96.],\n         ...,\n         [161., 109.,  59.],\n         [160., 108.,  58.],\n         [163., 111.,  61.]],\n\n        [[188., 136.,  79.],\n         [193., 141.,  84.],\n         [198., 146.,  89.],\n         ...,\n         [166., 114.,  64.],\n         [172., 120.,  70.],\n         [169., 117.,  67.]]],\n\n\n       [[[214., 203., 157.],\n         [214., 203., 157.],\n         [215., 204., 158.],\n         ...,\n         [207., 197., 136.],\n         [207., 197., 136.],\n         [207., 197., 136.]],\n\n        [[213., 202., 156.],\n         [214., 203., 157.],\n         [214., 203., 157.],\n         ...,\n         [207., 197., 136.],\n         [207., 197., 136.],\n         [207., 197., 136.]],\n\n        [[212., 201., 155.],\n         [213., 202., 156.],\n         [214., 203., 157.],\n         ...,\n         [207., 197., 136.],\n         [207., 197., 136.],\n         [207., 197., 136.]],\n\n        ...,\n\n        [[120., 106.,  80.],\n         [115.,  99.,  66.],\n         [118.,  94.,  56.],\n         ...,\n         [150., 131.,  62.],\n         [151., 131.,  68.],\n         [144., 123.,  66.]],\n\n        [[118., 105.,  71.],\n         [114.,  98.,  62.],\n         [114.,  90.,  52.],\n         ...,\n         [150., 130.,  59.],\n         [148., 127.,  60.],\n         [144., 123.,  60.]],\n\n        [[118., 105.,  71.],\n         [114.,  98.,  62.],\n         [114.,  90.,  52.],\n         ...,\n         [150., 130.,  59.],\n         [148., 127.,  60.],\n         [144., 123.,  60.]]],\n\n\n       [[[ 56.,  54.,   6.],\n         [ 57.,  52.,  14.],\n         [ 60.,  51.,  20.],\n         ...,\n         [ 41.,  42.,  37.],\n         [ 37.,  37.,  35.],\n         [ 17.,  17.,  15.]],\n\n        [[ 50.,  47.,   2.],\n         [ 51.,  45.,   9.],\n         [ 53.,  44.,  13.],\n         ...,\n         [ 38.,  28.,  16.],\n         [ 22.,  12.,   0.],\n         [ 57.,  44.,  35.]],\n\n        [[ 53.,  50.,   7.],\n         [ 51.,  45.,  11.],\n         [ 52.,  43.,  14.],\n         ...,\n         [ 53.,  38.,  19.],\n         [ 91.,  74.,  56.],\n         [ 49.,  30.,  13.]],\n\n        ...,\n\n        [[ 50., 168., 107.],\n         [ 50., 168., 107.],\n         [ 50., 168., 107.],\n         ...,\n         [ 24., 152., 101.],\n         [ 30., 152., 103.],\n         [ 34., 145., 102.]],\n\n        [[ 50., 168., 107.],\n         [ 50., 168., 107.],\n         [ 50., 168., 107.],\n         ...,\n         [ 22., 149.,  98.],\n         [ 29., 149., 103.],\n         [ 35., 144., 102.]],\n\n        [[ 44., 164., 102.],\n         [ 45., 165., 103.],\n         [ 44., 164., 102.],\n         ...,\n         [ 32., 161., 104.],\n         [ 29., 158., 101.],\n         [ 26., 158., 100.]]]], dtype=float32))",
     "output_type": "error",
     "traceback": [
      "\u001b[0;31m---------------------------------------------------------------------------\u001b[0m",
      "\u001b[0;31mValueError\u001b[0m                                Traceback (most recent call last)",
      "\u001b[0;32m<ipython-input-5-bc28eaf81d3c>\u001b[0m in \u001b[0;36m<module>\u001b[0;34m()\u001b[0m\n\u001b[0;32m----> 1\u001b[0;31m \u001b[0mget_pre_features_from_images\u001b[0m\u001b[0;34m(\u001b[0m\u001b[0mresnet50\u001b[0m\u001b[0;34m.\u001b[0m\u001b[0mResNet50\u001b[0m\u001b[0;34m,\u001b[0m \u001b[0;34m(\u001b[0m\u001b[0;36m224\u001b[0m\u001b[0;34m,\u001b[0m\u001b[0;36m224\u001b[0m\u001b[0;34m)\u001b[0m\u001b[0;34m,\u001b[0m \u001b[0mresnet50\u001b[0m\u001b[0;34m.\u001b[0m\u001b[0mpreprocess_input\u001b[0m\u001b[0;34m,\u001b[0m \u001b[0;34m\"ResNet50\"\u001b[0m\u001b[0;34m)\u001b[0m\u001b[0;34m\u001b[0m\u001b[0m\n\u001b[0m",
      "\u001b[0;32m<ipython-input-4-b707fce7a73a>\u001b[0m in \u001b[0;36mget_pre_features_from_images\u001b[0;34m(MODEL, image_size, preprocess_input, model_name)\u001b[0m\n\u001b[1;32m     29\u001b[0m     \u001b[0;31m# the predict_generator method returns the output of a model, given\u001b[0m\u001b[0;34m\u001b[0m\u001b[0;34m\u001b[0m\u001b[0m\n\u001b[1;32m     30\u001b[0m     \u001b[0;31m# a generator that yields batches of numpy data\u001b[0m\u001b[0;34m\u001b[0m\u001b[0;34m\u001b[0m\u001b[0m\n\u001b[0;32m---> 31\u001b[0;31m     \u001b[0mpre_features_train\u001b[0m \u001b[0;34m=\u001b[0m \u001b[0mmodel\u001b[0m\u001b[0;34m.\u001b[0m\u001b[0mpredict_generator\u001b[0m\u001b[0;34m(\u001b[0m\u001b[0mgenerator\u001b[0m\u001b[0;34m=\u001b[0m\u001b[0mtrain_generator\u001b[0m\u001b[0;34m)\u001b[0m\u001b[0;34m\u001b[0m\u001b[0m\n\u001b[0m\u001b[1;32m     32\u001b[0m     \u001b[0mpre_features_test\u001b[0m \u001b[0;34m=\u001b[0m \u001b[0mmodel\u001b[0m\u001b[0;34m.\u001b[0m\u001b[0mpredict_generator\u001b[0m\u001b[0;34m(\u001b[0m\u001b[0mtest_generator\u001b[0m\u001b[0;34m)\u001b[0m\u001b[0;34m\u001b[0m\u001b[0m\n\u001b[1;32m     33\u001b[0m \u001b[0;34m\u001b[0m\u001b[0m\n",
      "\u001b[0;32m/usr/local/lib/python3.5/dist-packages/keras/legacy/interfaces.py\u001b[0m in \u001b[0;36mwrapper\u001b[0;34m(*args, **kwargs)\u001b[0m\n\u001b[1;32m     89\u001b[0m                 warnings.warn('Update your `' + object_name +\n\u001b[1;32m     90\u001b[0m                               '` call to the Keras 2 API: ' + signature, stacklevel=2)\n\u001b[0;32m---> 91\u001b[0;31m             \u001b[0;32mreturn\u001b[0m \u001b[0mfunc\u001b[0m\u001b[0;34m(\u001b[0m\u001b[0;34m*\u001b[0m\u001b[0margs\u001b[0m\u001b[0;34m,\u001b[0m \u001b[0;34m**\u001b[0m\u001b[0mkwargs\u001b[0m\u001b[0;34m)\u001b[0m\u001b[0;34m\u001b[0m\u001b[0m\n\u001b[0m\u001b[1;32m     92\u001b[0m         \u001b[0mwrapper\u001b[0m\u001b[0;34m.\u001b[0m\u001b[0m_original_function\u001b[0m \u001b[0;34m=\u001b[0m \u001b[0mfunc\u001b[0m\u001b[0;34m\u001b[0m\u001b[0m\n\u001b[1;32m     93\u001b[0m         \u001b[0;32mreturn\u001b[0m \u001b[0mwrapper\u001b[0m\u001b[0;34m\u001b[0m\u001b[0m\n",
      "\u001b[0;32m/usr/local/lib/python3.5/dist-packages/keras/engine/training.py\u001b[0m in \u001b[0;36mpredict_generator\u001b[0;34m(self, generator, steps, max_queue_size, workers, use_multiprocessing, verbose)\u001b[0m\n\u001b[1;32m   1528\u001b[0m             \u001b[0mworkers\u001b[0m\u001b[0;34m=\u001b[0m\u001b[0mworkers\u001b[0m\u001b[0;34m,\u001b[0m\u001b[0;34m\u001b[0m\u001b[0m\n\u001b[1;32m   1529\u001b[0m             \u001b[0muse_multiprocessing\u001b[0m\u001b[0;34m=\u001b[0m\u001b[0muse_multiprocessing\u001b[0m\u001b[0;34m,\u001b[0m\u001b[0;34m\u001b[0m\u001b[0m\n\u001b[0;32m-> 1530\u001b[0;31m             verbose=verbose)\n\u001b[0m",
      "\u001b[0;32m/usr/local/lib/python3.5/dist-packages/keras/engine/training_generator.py\u001b[0m in \u001b[0;36mpredict_generator\u001b[0;34m(model, generator, steps, max_queue_size, workers, use_multiprocessing, verbose)\u001b[0m\n\u001b[1;32m    433\u001b[0m                 \u001b[0mx\u001b[0m \u001b[0;34m=\u001b[0m \u001b[0mgenerator_output\u001b[0m\u001b[0;34m\u001b[0m\u001b[0m\n\u001b[1;32m    434\u001b[0m \u001b[0;34m\u001b[0m\u001b[0m\n\u001b[0;32m--> 435\u001b[0;31m             \u001b[0mouts\u001b[0m \u001b[0;34m=\u001b[0m \u001b[0mmodel\u001b[0m\u001b[0;34m.\u001b[0m\u001b[0mpredict_on_batch\u001b[0m\u001b[0;34m(\u001b[0m\u001b[0mx\u001b[0m\u001b[0;34m)\u001b[0m\u001b[0;34m\u001b[0m\u001b[0m\n\u001b[0m\u001b[1;32m    436\u001b[0m             \u001b[0;32mif\u001b[0m \u001b[0;32mnot\u001b[0m \u001b[0misinstance\u001b[0m\u001b[0;34m(\u001b[0m\u001b[0mouts\u001b[0m\u001b[0;34m,\u001b[0m \u001b[0mlist\u001b[0m\u001b[0;34m)\u001b[0m\u001b[0;34m:\u001b[0m\u001b[0;34m\u001b[0m\u001b[0m\n\u001b[1;32m    437\u001b[0m                 \u001b[0mouts\u001b[0m \u001b[0;34m=\u001b[0m \u001b[0;34m[\u001b[0m\u001b[0mouts\u001b[0m\u001b[0;34m]\u001b[0m\u001b[0;34m\u001b[0m\u001b[0m\n",
      "\u001b[0;32m/usr/local/lib/python3.5/dist-packages/keras/engine/training.py\u001b[0m in \u001b[0;36mpredict_on_batch\u001b[0;34m(self, x)\u001b[0m\n\u001b[1;32m   1273\u001b[0m             \u001b[0mNumpy\u001b[0m \u001b[0marray\u001b[0m\u001b[0;34m(\u001b[0m\u001b[0ms\u001b[0m\u001b[0;34m)\u001b[0m \u001b[0mof\u001b[0m \u001b[0mpredictions\u001b[0m\u001b[0;34m.\u001b[0m\u001b[0;34m\u001b[0m\u001b[0m\n\u001b[1;32m   1274\u001b[0m         \"\"\"\n\u001b[0;32m-> 1275\u001b[0;31m         \u001b[0mx\u001b[0m\u001b[0;34m,\u001b[0m \u001b[0m_\u001b[0m\u001b[0;34m,\u001b[0m \u001b[0m_\u001b[0m \u001b[0;34m=\u001b[0m \u001b[0mself\u001b[0m\u001b[0;34m.\u001b[0m\u001b[0m_standardize_user_data\u001b[0m\u001b[0;34m(\u001b[0m\u001b[0mx\u001b[0m\u001b[0;34m)\u001b[0m\u001b[0;34m\u001b[0m\u001b[0m\n\u001b[0m\u001b[1;32m   1276\u001b[0m         \u001b[0;32mif\u001b[0m \u001b[0mself\u001b[0m\u001b[0;34m.\u001b[0m\u001b[0m_uses_dynamic_learning_phase\u001b[0m\u001b[0;34m(\u001b[0m\u001b[0;34m)\u001b[0m\u001b[0;34m:\u001b[0m\u001b[0;34m\u001b[0m\u001b[0m\n\u001b[1;32m   1277\u001b[0m             \u001b[0mins\u001b[0m \u001b[0;34m=\u001b[0m \u001b[0mx\u001b[0m \u001b[0;34m+\u001b[0m \u001b[0;34m[\u001b[0m\u001b[0;36m0.\u001b[0m\u001b[0;34m]\u001b[0m\u001b[0;34m\u001b[0m\u001b[0m\n",
      "\u001b[0;32m/usr/local/lib/python3.5/dist-packages/keras/engine/training.py\u001b[0m in \u001b[0;36m_standardize_user_data\u001b[0;34m(self, x, y, sample_weight, class_weight, check_array_lengths, batch_size)\u001b[0m\n\u001b[1;32m    752\u001b[0m             \u001b[0mfeed_input_shapes\u001b[0m\u001b[0;34m,\u001b[0m\u001b[0;34m\u001b[0m\u001b[0m\n\u001b[1;32m    753\u001b[0m             \u001b[0mcheck_batch_axis\u001b[0m\u001b[0;34m=\u001b[0m\u001b[0;32mFalse\u001b[0m\u001b[0;34m,\u001b[0m  \u001b[0;31m# Don't enforce the batch size.\u001b[0m\u001b[0;34m\u001b[0m\u001b[0m\n\u001b[0;32m--> 754\u001b[0;31m             exception_prefix='input')\n\u001b[0m\u001b[1;32m    755\u001b[0m \u001b[0;34m\u001b[0m\u001b[0m\n\u001b[1;32m    756\u001b[0m         \u001b[0;32mif\u001b[0m \u001b[0my\u001b[0m \u001b[0;32mis\u001b[0m \u001b[0;32mnot\u001b[0m \u001b[0;32mNone\u001b[0m\u001b[0;34m:\u001b[0m\u001b[0;34m\u001b[0m\u001b[0m\n",
      "\u001b[0;32m/usr/local/lib/python3.5/dist-packages/keras/engine/training_utils.py\u001b[0m in \u001b[0;36mstandardize_input_data\u001b[0;34m(data, names, shapes, check_batch_axis, exception_prefix)\u001b[0m\n\u001b[1;32m     59\u001b[0m             raise ValueError('Error when checking model ' +\n\u001b[1;32m     60\u001b[0m                              \u001b[0mexception_prefix\u001b[0m \u001b[0;34m+\u001b[0m \u001b[0;34m': '\u001b[0m\u001b[0;34m\u001b[0m\u001b[0m\n\u001b[0;32m---> 61\u001b[0;31m                              'expected no data, but got:', data)\n\u001b[0m\u001b[1;32m     62\u001b[0m         \u001b[0;32mreturn\u001b[0m \u001b[0;34m[\u001b[0m\u001b[0;34m]\u001b[0m\u001b[0;34m\u001b[0m\u001b[0m\n\u001b[1;32m     63\u001b[0m     \u001b[0;32mif\u001b[0m \u001b[0mdata\u001b[0m \u001b[0;32mis\u001b[0m \u001b[0;32mNone\u001b[0m\u001b[0;34m:\u001b[0m\u001b[0;34m\u001b[0m\u001b[0m\n",
      "\u001b[0;31mValueError\u001b[0m: ('Error when checking model input: expected no data, but got:', array([[[[203., 164.,  87.],\n         [206., 167.,  90.],\n         [209., 170.,  93.],\n         ...,\n         [245., 203., 119.],\n         [241., 202., 123.],\n         [239., 200., 121.]],\n\n        [[203., 164.,  87.],\n         [206., 167.,  90.],\n         [209., 170.,  93.],\n         ...,\n         [245., 205., 120.],\n         [242., 203., 124.],\n         [240., 201., 122.]],\n\n        [[203., 164.,  87.],\n         [206., 167.,  90.],\n         [209., 170.,  93.],\n         ...,\n         [245., 204., 122.],\n         [243., 204., 125.],\n         [241., 202., 123.]],\n\n        ...,\n\n        [[154., 123.,  56.],\n         [155., 124.,  57.],\n         [156., 125.,  58.],\n         ...,\n         [  3.,   3.,   1.],\n         [  3.,   3.,   1.],\n         [  3.,   3.,   1.]],\n\n        [[153., 122.,  55.],\n         [153., 122.,  55.],\n         [154., 123.,  56.],\n         ...,\n         [  2.,   2.,   0.],\n         [  2.,   2.,   0.],\n         [  2.,   2.,   0.]],\n\n        [[151., 120.,  53.],\n         [152., 121.,  54.],\n         [153., 122.,  55.],\n         ...,\n         [  1.,   1.,   0.],\n         [  1.,   1.,   0.],\n         [  1.,   1.,   0.]]],\n\n\n       [[[ 39.,  44.,  40.],\n         [ 40.,  44.,  43.],\n         [ 41.,  45.,  46.],\n         ...,\n         [210., 209., 181.],\n         [207., 204., 171.],\n         [201., 199., 161.]],\n\n        [[ 40.,  45.,  41.],\n         [ 40.,  44.,  43.],\n         [ 41.,  45.,  46.],\n         ...,\n         [207., 203., 176.],\n         [203., 200., 169.],\n         [197., 195., 157.]],\n\n        [[ 39.,  44.,  40.],\n         [ 38.,  42.,  41.],\n         [ 37.,  41.,  42.],\n         ...,\n         [195., 191., 166.],\n         [198., 193., 164.],\n         [205., 200., 168.]],\n\n        ...,\n\n        [[ 29.,  27.,  28.],\n         [ 25.,  23.,  24.],\n         [ 22.,  20.,  21.],\n         ...,\n         [ 50.,  37.,  31.],\n         [ 41.,  28.,  22.],\n         [ 49.,  38.,  32.]],\n\n        [[ 32.,  30.,  31.],\n         [ 26.,  24.,  25.],\n         [ 22.,  20.,  21.],\n         ...,\n         [ 44.,  31.,  23.],\n         [ 42.,  29.,  21.],\n         [ 55.,  45.,  36.]],\n\n        [[ 32.,  30.,  31.],\n         [ 25.,  23.,  24.],\n         [ 21.,  19.,  20.],\n         ...,\n         [ 59.,  46.,  38.],\n         [ 51.,  38.,  30.],\n         [ 40.,  30.,  21.]]],\n\n\n       [[[ 29.,  33.,  42.],\n         [ 19.,  23.,  32.],\n         [  8.,  12.,  23.],\n         ...,\n         [130., 162., 159.],\n         [128., 160., 157.],\n         [125., 157., 154.]],\n\n        [[ 36.,  40.,  49.],\n         [ 41.,  45.,  54.],\n         [ 31.,  35.,  46.],\n         ...,\n         [131., 163., 160.],\n         [129., 161., 158.],\n         [126., 158., 155.]],\n\n        [[ 38.,  45.,  51.],\n         [ 41.,  48.,  54.],\n         [ 37.,  44.,  52.],\n         ...,\n         [132., 164., 159.],\n         [129., 161., 156.],\n         [127., 159., 154.]],\n\n        ...,\n\n        [[178., 165., 120.],\n         [171., 158., 114.],\n         [169., 156., 112.],\n         ...,\n         [190., 188.,   9.],\n         [179., 174.,  12.],\n         [170., 163.,  13.]],\n\n        [[169., 156., 111.],\n         [170., 157., 112.],\n         [156., 143.,  99.],\n         ...,\n         [189., 186.,   9.],\n         [178., 173.,  11.],\n         [168., 161.,  11.]],\n\n        [[159., 145., 110.],\n         [147., 133.,  94.],\n         [150., 137.,  93.],\n         ...,\n         [189., 187.,   6.],\n         [180., 177.,   4.],\n         [172., 167.,   3.]]],\n\n\n       ...,\n\n\n       [[[175., 139., 107.],\n         [177., 141., 109.],\n         [178., 142., 110.],\n         ...,\n         [ 75.,  68.,  76.],\n         [ 69.,  62.,  70.],\n         [ 69.,  62.,  70.]],\n\n        [[175., 139., 107.],\n         [177., 141., 109.],\n         [178., 142., 110.],\n         ...,\n         [ 75.,  68.,  76.],\n         [ 73.,  66.,  74.],\n         [ 73.,  66.,  74.]],\n\n        [[175., 139., 107.],\n         [177., 141., 109.],\n         [178., 142., 110.],\n         ...,\n         [ 75.,  68.,  76.],\n         [ 75.,  68.,  76.],\n         [ 75.,  68.,  76.]],\n\n        ...,\n\n        [[220., 168., 111.],\n         [198., 146.,  89.],\n         [182., 130.,  73.],\n         ...,\n         [178., 126.,  76.],\n         [184., 132.,  82.],\n         [187., 135.,  85.]],\n\n        [[189., 137.,  80.],\n         [198., 146.,  89.],\n         [205., 153.,  96.],\n         ...,\n         [161., 109.,  59.],\n         [160., 108.,  58.],\n         [163., 111.,  61.]],\n\n        [[188., 136.,  79.],\n         [193., 141.,  84.],\n         [198., 146.,  89.],\n         ...,\n         [166., 114.,  64.],\n         [172., 120.,  70.],\n         [169., 117.,  67.]]],\n\n\n       [[[214., 203., 157.],\n         [214., 203., 157.],\n         [215., 204., 158.],\n         ...,\n         [207., 197., 136.],\n         [207., 197., 136.],\n         [207., 197., 136.]],\n\n        [[213., 202., 156.],\n         [214., 203., 157.],\n         [214., 203., 157.],\n         ...,\n         [207., 197., 136.],\n         [207., 197., 136.],\n         [207., 197., 136.]],\n\n        [[212., 201., 155.],\n         [213., 202., 156.],\n         [214., 203., 157.],\n         ...,\n         [207., 197., 136.],\n         [207., 197., 136.],\n         [207., 197., 136.]],\n\n        ...,\n\n        [[120., 106.,  80.],\n         [115.,  99.,  66.],\n         [118.,  94.,  56.],\n         ...,\n         [150., 131.,  62.],\n         [151., 131.,  68.],\n         [144., 123.,  66.]],\n\n        [[118., 105.,  71.],\n         [114.,  98.,  62.],\n         [114.,  90.,  52.],\n         ...,\n         [150., 130.,  59.],\n         [148., 127.,  60.],\n         [144., 123.,  60.]],\n\n        [[118., 105.,  71.],\n         [114.,  98.,  62.],\n         [114.,  90.,  52.],\n         ...,\n         [150., 130.,  59.],\n         [148., 127.,  60.],\n         [144., 123.,  60.]]],\n\n\n       [[[ 56.,  54.,   6.],\n         [ 57.,  52.,  14.],\n         [ 60.,  51.,  20.],\n         ...,\n         [ 41.,  42.,  37.],\n         [ 37.,  37.,  35.],\n         [ 17.,  17.,  15.]],\n\n        [[ 50.,  47.,   2.],\n         [ 51.,  45.,   9.],\n         [ 53.,  44.,  13.],\n         ...,\n         [ 38.,  28.,  16.],\n         [ 22.,  12.,   0.],\n         [ 57.,  44.,  35.]],\n\n        [[ 53.,  50.,   7.],\n         [ 51.,  45.,  11.],\n         [ 52.,  43.,  14.],\n         ...,\n         [ 53.,  38.,  19.],\n         [ 91.,  74.,  56.],\n         [ 49.,  30.,  13.]],\n\n        ...,\n\n        [[ 50., 168., 107.],\n         [ 50., 168., 107.],\n         [ 50., 168., 107.],\n         ...,\n         [ 24., 152., 101.],\n         [ 30., 152., 103.],\n         [ 34., 145., 102.]],\n\n        [[ 50., 168., 107.],\n         [ 50., 168., 107.],\n         [ 50., 168., 107.],\n         ...,\n         [ 22., 149.,  98.],\n         [ 29., 149., 103.],\n         [ 35., 144., 102.]],\n\n        [[ 44., 164., 102.],\n         [ 45., 165., 103.],\n         [ 44., 164., 102.],\n         ...,\n         [ 32., 161., 104.],\n         [ 29., 158., 101.],\n         [ 26., 158., 100.]]]], dtype=float32))"
     ]
    }
   ],
   "source": [
    "get_pre_features_from_images(resnet50.ResNet50, (224,224), resnet50.preprocess_input, \"ResNet50\")"
   ]
  },
  {
   "cell_type": "code",
   "execution_count": null,
   "metadata": {},
   "outputs": [],
   "source": [
    "get_pre_features_from_images(xception.Xception, (224,224), resnet50.preprocess_input, \"Xception\")"
   ]
  },
  {
   "cell_type": "code",
   "execution_count": null,
   "metadata": {},
   "outputs": [],
   "source": [
    "get_pre_features_from_images(inception_v3.InceptionV3, (224,224), resnet50.preprocess_input, \"InceptionV3\")"
   ]
  }
 ],
 "metadata": {
  "kernelspec": {
   "display_name": "Python 3",
   "language": "python",
   "name": "python3"
  },
  "language_info": {
   "codemirror_mode": {
    "name": "ipython",
    "version": 3
   },
   "file_extension": ".py",
   "mimetype": "text/x-python",
   "name": "python",
   "nbconvert_exporter": "python",
   "pygments_lexer": "ipython3",
   "version": "3.5.2"
  }
 },
 "nbformat": 4,
 "nbformat_minor": 2
}
