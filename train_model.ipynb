{
 "cells": [
  {
   "cell_type": "markdown",
   "metadata": {},
   "source": [
    "## 迁移学习"
   ]
  },
  {
   "cell_type": "markdown",
   "metadata": {},
   "source": [
    "训练参数设置"
   ]
  },
  {
   "cell_type": "code",
   "execution_count": 1,
   "metadata": {},
   "outputs": [
    {
     "name": "stdout",
     "output_type": "stream",
     "text": [
      "will use Xception model\n",
      "model name: Xception\n"
     ]
    }
   ],
   "source": [
    "pre_features_files = {'ResNet50':'ResNet50_pre_out.h5', 'Xception':'Xception_pre_out.h5', 'InceptionV3':'InceptionV3_pre_out.h5'}\n",
    "# pre_features_files = {'ResNet50':'ResNet50_pre_out.h5', \n",
    "#                       'Xception':'Xception_pre_out.h5', \n",
    "#                       'InceptionResNetV2':'InceptionResNetV2_pre_out.h5'}\n",
    "\n",
    "composite_model = False\n",
    "single_model = 'Xception'\n",
    "\n",
    "# check training parameter\n",
    "if not composite_model and single_model not in pre_features_files:\n",
    "    print(\"%s not found in pre-trained models\" %single_model)\n",
    "else:\n",
    "    if composite_model:\n",
    "        print(\"will use composite model\")\n",
    "    else:\n",
    "        print(\"will use %s model\" %single_model)\n",
    "        \n",
    "if composite_model:\n",
    "    model_name = 'Composite_Model'\n",
    "else:\n",
    "    model_name = single_model\n",
    "    \n",
    "print('model name:', model_name)"
   ]
  },
  {
   "cell_type": "markdown",
   "metadata": {},
   "source": [
    "### Tools"
   ]
  },
  {
   "cell_type": "code",
   "execution_count": 2,
   "metadata": {},
   "outputs": [],
   "source": [
    "import matplotlib.pyplot as plt\n",
    "import matplotlib.patches as mpatches\n",
    "\n",
    "def show_history(hist, title_name):\n",
    "    # epoch as x-axis \n",
    "    epochs = range(len(hist['acc']))\n",
    "    \n",
    "    fig, ax1 = plt.subplots()\n",
    "    \n",
    "    ## left scale: acc, val_acc\n",
    "    # acc\n",
    "    line_acc = ax1.plot(epochs, hist['acc'], 'r', label='acc')\n",
    "    # loss\n",
    "#     ax1.plot(epochs, hist['loss'], 'g', label='loss')\n",
    "    # val_acc\n",
    "    line_val_acc = ax1.plot(epochs, hist['val_acc'], 'b', label='val_acc')\n",
    "    # val_loss\n",
    "#     ax1.plot(epochs, hist['val_loss'], 'k', label='val_loss')\n",
    "    \n",
    "    ax1.set(xlabel='epochs', ylabel='acc',title=title_name)\n",
    "    \n",
    "    ## right scale: loss, val_loss\n",
    "    ax2 = ax1.twinx()  # instantiate a second axes that shares the same x-axis\n",
    "    color = 'tab:blue'\n",
    "    ax2.set_ylabel('loss', color=color)  # we already handled the x-label with ax1\n",
    "    line_loss = ax2.plot(epochs, hist['loss'], 'g', label='loss')\n",
    "    line_val_loss = ax2.plot(epochs, hist['val_loss'], 'k', label='val_loss')\n",
    "    ax2.tick_params(axis='y', labelcolor=color)\n",
    "\n",
    "#     ax1.legend(loc='upper right', fancybox=True,)\n",
    "#     ax2.legend(loc='lower right', fancybox=True)\n",
    "    \n",
    "    ax1.grid(True)\n",
    "    fig.tight_layout()  # otherwise the right y-label is slightly clipped\n",
    "    \n",
    "    acc_patch = mpatches.Patch(color='r', label='acc',linestyle='-')\n",
    "    val_acc_patch = mpatches.Patch(color='b', label='val-acc')\n",
    "    loss_patch = mpatches.Patch(color='g', label='loss')\n",
    "    val_loss_patch = mpatches.Patch(color='k', label='val-loss')\n",
    "    fig.legend(handles=[acc_patch, val_acc_patch, loss_patch, val_loss_patch],\n",
    "               ncol=4, loc='lower center',\n",
    "               mode=\"expand\", borderaxespad=0.)\n",
    "\n",
    "    fig.show()"
   ]
  },
  {
   "cell_type": "markdown",
   "metadata": {},
   "source": [
    "### 载入数据"
   ]
  },
  {
   "cell_type": "code",
   "execution_count": 3,
   "metadata": {},
   "outputs": [
    {
     "name": "stdout",
     "output_type": "stream",
     "text": [
      "train shape: (25000, 2048)\n",
      "train_data: [[0.06419943 0.5325118  0.61818767 ... 0.02308517 0.         0.23087822]\n",
      " [0.01955884 0.2614151  0.00553378 ... 0.         0.02877969 0.04635844]\n",
      " [0.0658308  0.13139124 0.12781699 ... 0.02613068 0.47964153 0.61643195]\n",
      " [0.25487077 0.24022049 0.15445104 ... 0.         0.02235488 0.55988157]\n",
      " [0.03490764 0.2764068  0.12088037 ... 0.08623303 0.14639798 0.60639906]]\n"
     ]
    }
   ],
   "source": [
    "import h5py\n",
    "import numpy as np\n",
    "from sklearn.utils import shuffle\n",
    "np.random.seed(66)\n",
    "\n",
    "train_data = []\n",
    "test_data = []\n",
    "\n",
    "# #------- single pre-trained model\n",
    "if not composite_model:\n",
    "    with h5py.File(pre_features_files[single_model] , 'r') as h:\n",
    "        train_data.append(np.array(h['train']))\n",
    "        train_labels = np.array(h['label'])\n",
    "        test_data.append(np.array(h['test']))\n",
    "else:#-------- composite model\n",
    "    for modelname in pre_features_files:\n",
    "        with h5py.File(pre_features_files[modelname]) as h:\n",
    "            train_data.append(np.array(h['train']))\n",
    "            train_labels = np.array(h['label'])\n",
    "            test_data.append(np.array(h['test']))\n",
    "\n",
    "train_data = np.concatenate(train_data, axis=1)\n",
    "test_data = np.concatenate(test_data, axis=1)\n",
    "\n",
    "print(\"train shape:\",train_data.shape)\n",
    "print(\"train_data:\",train_data[:5])\n",
    "# 预存的X_train, y_train是按顺序存放的，前12500是猫，后12500是狗, 这里打乱顺序，使之随机存放\n",
    "# Note: 打乱的是存放存放顺序，并不改变 X_train , y_train的对应关系\n",
    "train_data, train_labels = shuffle(train_data, train_labels)"
   ]
  },
  {
   "cell_type": "markdown",
   "metadata": {},
   "source": [
    "### 构建模型"
   ]
  },
  {
   "cell_type": "markdown",
   "metadata": {},
   "source": [
    "```\n",
    "from keras.models import Sequential\n",
    "from keras.models import Model\n",
    "from keras.layers import GlobalAveragePooling2D\n",
    "from keras.layers import Activation, Dropout, Flatten, Dense, Input\n",
    "\n",
    "# from keras.applications import xception\n",
    "input_tensor=Input(train_data.shape[1:])\n",
    "\n",
    "model = Sequential()\n",
    "model.add(Flatten(input_tensor))\n",
    "model.add(Dense(1, activation='relu'))\n",
    "model.add(Dropout(0.5))\n",
    "model.add(Dense(1, activation='sigmoid'))\n",
    "\n",
    "model.compile(optimizer='rmsprop',\n",
    "              loss='binary_crossentropy',\n",
    "              metrics=['accuracy'])\n",
    "        \n",
    " ```"
   ]
  },
  {
   "cell_type": "code",
   "execution_count": 4,
   "metadata": {},
   "outputs": [
    {
     "name": "stderr",
     "output_type": "stream",
     "text": [
      "Using TensorFlow backend.\n"
     ]
    }
   ],
   "source": [
    "from keras.models import Sequential\n",
    "from keras.models import Model\n",
    "from keras.layers import GlobalAveragePooling2D\n",
    "from keras.layers import Activation, Dropout, Flatten, Dense, Input\n",
    "import numpy as np\n",
    "\n",
    "np.random.seed(666)\n",
    "\n",
    "input_tensor = Input(train_data.shape[1:])\n",
    "x = Dropout(0.5)(input_tensor)\n",
    "x = Dense(1, activation='sigmoid')(x)\n",
    "model = Model(input_tensor, x)\n",
    "\n",
    "model.compile(optimizer='adadelta',\n",
    "              loss='binary_crossentropy',\n",
    "              metrics=['accuracy'])"
   ]
  },
  {
   "cell_type": "markdown",
   "metadata": {},
   "source": [
    "### 在pre-train features上训练模型"
   ]
  },
  {
   "cell_type": "code",
   "execution_count": 5,
   "metadata": {},
   "outputs": [
    {
     "name": "stdout",
     "output_type": "stream",
     "text": [
      "Train on 20000 samples, validate on 5000 samples\n",
      "Epoch 1/20\n",
      "20000/20000 [==============================] - 3s 145us/step - loss: 0.1382 - acc: 0.9763 - val_loss: 0.0504 - val_acc: 0.9902\n",
      "Epoch 2/20\n",
      "20000/20000 [==============================] - 2s 76us/step - loss: 0.0384 - acc: 0.9919 - val_loss: 0.0315 - val_acc: 0.9916\n",
      "Epoch 3/20\n",
      "20000/20000 [==============================] - 4s 188us/step - loss: 0.0268 - acc: 0.9924 - val_loss: 0.0279 - val_acc: 0.9916\n",
      "Epoch 4/20\n",
      "20000/20000 [==============================] - 4s 188us/step - loss: 0.0239 - acc: 0.9934 - val_loss: 0.0262 - val_acc: 0.9920\n",
      "Epoch 5/20\n",
      "20000/20000 [==============================] - 2s 105us/step - loss: 0.0212 - acc: 0.9940 - val_loss: 0.0255 - val_acc: 0.9918\n",
      "Epoch 6/20\n",
      "20000/20000 [==============================] - 1s 59us/step - loss: 0.0207 - acc: 0.9938 - val_loss: 0.0249 - val_acc: 0.9920\n",
      "Epoch 7/20\n",
      "20000/20000 [==============================] - 1s 74us/step - loss: 0.0187 - acc: 0.9945 - val_loss: 0.0243 - val_acc: 0.9924\n",
      "Epoch 8/20\n",
      "20000/20000 [==============================] - 4s 217us/step - loss: 0.0173 - acc: 0.9950 - val_loss: 0.0244 - val_acc: 0.9924\n",
      "Epoch 9/20\n",
      "20000/20000 [==============================] - 4s 214us/step - loss: 0.0181 - acc: 0.9940 - val_loss: 0.0249 - val_acc: 0.9924\n",
      "Epoch 10/20\n",
      "20000/20000 [==============================] - 2s 104us/step - loss: 0.0177 - acc: 0.9947 - val_loss: 0.0242 - val_acc: 0.9922\n",
      "Epoch 11/20\n",
      "20000/20000 [==============================] - 3s 129us/step - loss: 0.0167 - acc: 0.9946 - val_loss: 0.0243 - val_acc: 0.9924\n",
      "Epoch 12/20\n",
      "20000/20000 [==============================] - 4s 209us/step - loss: 0.0168 - acc: 0.9953 - val_loss: 0.0243 - val_acc: 0.9918\n",
      "Epoch 13/20\n",
      "20000/20000 [==============================] - 4s 217us/step - loss: 0.0154 - acc: 0.9950 - val_loss: 0.0243 - val_acc: 0.9922\n",
      "Epoch 14/20\n",
      "20000/20000 [==============================] - 4s 217us/step - loss: 0.0165 - acc: 0.9947 - val_loss: 0.0244 - val_acc: 0.9920\n",
      "Epoch 15/20\n",
      "20000/20000 [==============================] - 2s 114us/step - loss: 0.0146 - acc: 0.9955 - val_loss: 0.0247 - val_acc: 0.9924\n",
      "Epoch 16/20\n",
      "20000/20000 [==============================] - 1s 60us/step - loss: 0.0159 - acc: 0.9951 - val_loss: 0.0249 - val_acc: 0.9924\n",
      "Epoch 17/20\n",
      "20000/20000 [==============================] - 2s 89us/step - loss: 0.0160 - acc: 0.9949 - val_loss: 0.0246 - val_acc: 0.9926\n",
      "Epoch 18/20\n",
      "20000/20000 [==============================] - 4s 215us/step - loss: 0.0153 - acc: 0.9953 - val_loss: 0.0247 - val_acc: 0.9924\n",
      "Epoch 19/20\n",
      "20000/20000 [==============================] - 4s 218us/step - loss: 0.0145 - acc: 0.9957 - val_loss: 0.0253 - val_acc: 0.9924\n",
      "Epoch 20/20\n",
      "20000/20000 [==============================] - 2s 89us/step - loss: 0.0147 - acc: 0.9955 - val_loss: 0.0249 - val_acc: 0.9922\n"
     ]
    },
    {
     "name": "stderr",
     "output_type": "stream",
     "text": [
      "/home/jerry/.local/lib/python3.5/site-packages/matplotlib/figure.py:459: UserWarning: matplotlib is currently using a non-GUI backend, so cannot show the figure\n",
      "  \"matplotlib is currently using a non-GUI backend, \"\n"
     ]
    },
    {
     "data": {
      "image/png": "[encoded data removed]",
      "text/plain": [
       "<Figure size 432x288 with 2 Axes>"
      ]
     },
     "metadata": {},
     "output_type": "display_data"
    }
   ],
   "source": [
    "model_hist = model.fit(train_data, train_labels,\n",
    "                       batch_size=128,epochs=20,\n",
    "                       validation_split = 0.2,\n",
    "                       verbose=1\n",
    "          )\n",
    "\n",
    "show_history(model_hist.history, model_name)"
   ]
  },
  {
   "cell_type": "code",
   "execution_count": 6,
   "metadata": {},
   "outputs": [],
   "source": [
    "logpath = 'log/'+model_name\n",
    "    \n",
    "model.save(logpath+'.h5')\n",
    "with open(logpath+'_hist.txt','w') as f:\n",
    "    f.write(str(model_hist.history))"
   ]
  },
  {
   "cell_type": "code",
   "execution_count": 7,
   "metadata": {},
   "outputs": [
    {
     "name": "stdout",
     "output_type": "stream",
     "text": [
      "{'acc': [0.97625, 0.9919, 0.99245, 0.9934, 0.994, 0.99385, 0.99445, 0.995, 0.99395, 0.99475, 0.9946, 0.9953, 0.99505, 0.9947, 0.99545, 0.9951, 0.9949, 0.99525, 0.9957, 0.9955], 'val_loss': [0.05035692601799965, 0.031512932688742876, 0.027886276702396573, 0.02620937048792839, 0.025532357892207803, 0.024909068002272397, 0.024339602675801143, 0.02437659593441058, 0.024938281135004944, 0.024237968469201586, 0.024273941055126487, 0.02431870358355809, 0.024312544778140727, 0.0244492359660333, 0.024700806825538164, 0.024926935222209432, 0.024630574757186698, 0.024669607296644244, 0.02526281806906918, 0.024948563814966473], 'val_acc': [0.9902, 0.9916, 0.9916, 0.992, 0.9918, 0.992, 0.9924, 0.9924, 0.9924, 0.9922, 0.9924, 0.9918, 0.9922, 0.992, 0.9924, 0.9924, 0.9926, 0.9924, 0.9924, 0.9922], 'loss': [0.1381783734202385, 0.03835349161922932, 0.026785000067949295, 0.023885206393897532, 0.021163045766949655, 0.020679549933224916, 0.018687805962562563, 0.01734194583594799, 0.01813029439598322, 0.01769403789639473, 0.016738558473065497, 0.016789536898210645, 0.015410065767168999, 0.016491642812639474, 0.014612220671027899, 0.015941519853658975, 0.015985847847536205, 0.015284201500564814, 0.014522575648501516, 0.014749577416479587]}\n"
     ]
    },
    {
     "name": "stderr",
     "output_type": "stream",
     "text": [
      "/home/jerry/.local/lib/python3.5/site-packages/matplotlib/figure.py:459: UserWarning: matplotlib is currently using a non-GUI backend, so cannot show the figure\n",
      "  \"matplotlib is currently using a non-GUI backend, \"\n"
     ]
    },
    {
     "data": {
      "image/png": "[encoded data removed]",
      "text/plain": [
       "<Figure size 432x288 with 2 Axes>"
      ]
     },
     "metadata": {},
     "output_type": "display_data"
    }
   ],
   "source": [
    "## 查看 history\n",
    "# Pretty display for notebooks\n",
    "%matplotlib inline\n",
    "\n",
    "import matplotlib.pyplot as plt\n",
    "import matplotlib.patches as mpatches\n",
    "\n",
    "\n",
    "def read_history_from_file(filename):\n",
    "    f = open(filename,'r')\n",
    "    rdbuf = f.read()\n",
    "    hist = eval(rdbuf)\n",
    "    f.close()\n",
    "    \n",
    "    return hist\n",
    "    \n",
    "histfile = 'log/'+model_name+'_hist.txt'\n",
    "hist = read_history_from_file(histfile)\n",
    "print(hist)\n",
    "\n",
    "title_name = model_name\n",
    "show_history(hist, title_name)"
   ]
  },
  {
   "cell_type": "markdown",
   "metadata": {},
   "source": [
    "### 用拟合后的模型预测"
   ]
  },
  {
   "cell_type": "code",
   "execution_count": 8,
   "metadata": {},
   "outputs": [
    {
     "name": "stdout",
     "output_type": "stream",
     "text": [
      "12500/12500 [==============================] - 0s 23us/step\n"
     ]
    }
   ],
   "source": [
    "y_pred = model.predict(test_data, verbose=1)"
   ]
  },
  {
   "cell_type": "markdown",
   "metadata": {},
   "source": [
    "预测结果写入kaggle sample_submission.csv"
   ]
  },
  {
   "cell_type": "code",
   "execution_count": 9,
   "metadata": {},
   "outputs": [
    {
     "name": "stdout",
     "output_type": "stream",
     "text": [
      "Found 12500 images belonging to 1 classes.\n"
     ]
    },
    {
     "name": "stderr",
     "output_type": "stream",
     "text": [
      "/home/jerry/.local/lib/python3.5/site-packages/ipykernel_launcher.py:14: FutureWarning: set_value is deprecated and will be removed in a future release. Please use .at[] or .iat[] accessors instead\n",
      "  \n"
     ]
    },
    {
     "data": {
      "text/html": [
       "<div>\n",
       "<style scoped>\n",
       "    .dataframe tbody tr th:only-of-type {\n",
       "        vertical-align: middle;\n",
       "    }\n",
       "\n",
       "    .dataframe tbody tr th {\n",
       "        vertical-align: top;\n",
       "    }\n",
       "\n",
       "    .dataframe thead th {\n",
       "        text-align: right;\n",
       "    }\n",
       "</style>\n",
       "<table border=\"1\" class=\"dataframe\">\n",
       "  <thead>\n",
       "    <tr style=\"text-align: right;\">\n",
       "      <th></th>\n",
       "      <th>id</th>\n",
       "      <th>label</th>\n",
       "    </tr>\n",
       "  </thead>\n",
       "  <tbody>\n",
       "    <tr>\n",
       "      <th>0</th>\n",
       "      <td>1</td>\n",
       "      <td>0.995</td>\n",
       "    </tr>\n",
       "    <tr>\n",
       "      <th>1</th>\n",
       "      <td>2</td>\n",
       "      <td>0.995</td>\n",
       "    </tr>\n",
       "    <tr>\n",
       "      <th>2</th>\n",
       "      <td>3</td>\n",
       "      <td>0.995</td>\n",
       "    </tr>\n",
       "    <tr>\n",
       "      <th>3</th>\n",
       "      <td>4</td>\n",
       "      <td>0.995</td>\n",
       "    </tr>\n",
       "    <tr>\n",
       "      <th>4</th>\n",
       "      <td>5</td>\n",
       "      <td>0.005</td>\n",
       "    </tr>\n",
       "    <tr>\n",
       "      <th>5</th>\n",
       "      <td>6</td>\n",
       "      <td>0.005</td>\n",
       "    </tr>\n",
       "    <tr>\n",
       "      <th>6</th>\n",
       "      <td>7</td>\n",
       "      <td>0.005</td>\n",
       "    </tr>\n",
       "    <tr>\n",
       "      <th>7</th>\n",
       "      <td>8</td>\n",
       "      <td>0.005</td>\n",
       "    </tr>\n",
       "    <tr>\n",
       "      <th>8</th>\n",
       "      <td>9</td>\n",
       "      <td>0.005</td>\n",
       "    </tr>\n",
       "    <tr>\n",
       "      <th>9</th>\n",
       "      <td>10</td>\n",
       "      <td>0.005</td>\n",
       "    </tr>\n",
       "  </tbody>\n",
       "</table>\n",
       "</div>"
      ],
      "text/plain": [
       "   id  label\n",
       "0   1  0.995\n",
       "1   2  0.995\n",
       "2   3  0.995\n",
       "3   4  0.995\n",
       "4   5  0.005\n",
       "5   6  0.005\n",
       "6   7  0.005\n",
       "7   8  0.005\n",
       "8   9  0.005\n",
       "9  10  0.005"
      ]
     },
     "execution_count": 9,
     "metadata": {},
     "output_type": "execute_result"
    }
   ],
   "source": [
    "y_pred = y_pred.clip(min=0.005, max=0.995)\n",
    "\n",
    "import pandas as pd\n",
    "from keras.preprocessing.image import *\n",
    "\n",
    "df = pd.read_csv(\"sample_submission.csv\")\n",
    "\n",
    "gen = ImageDataGenerator()\n",
    "test_generator = gen.flow_from_directory(\"pre-test\", (224, 224), shuffle=False, \n",
    "                                         batch_size=16, class_mode=None)\n",
    "\n",
    "for i, fname in enumerate(test_generator.filenames):\n",
    "    index = int(fname[fname.rfind('/')+1:fname.rfind('.')])\n",
    "    df.set_value(index-1, 'label', y_pred[i])\n",
    "\n",
    "df.to_csv(model_name+'_pred.csv', index=None)\n",
    "df.head(10)"
   ]
  },
  {
   "cell_type": "markdown",
   "metadata": {},
   "source": [
    "### 模型可视化"
   ]
  },
  {
   "cell_type": "code",
   "execution_count": 10,
   "metadata": {},
   "outputs": [
    {
     "name": "stdout",
     "output_type": "stream",
     "text": [
      "// The Model Chart\n",
      "digraph {\n",
      "\tnode [shape=record]\n",
      "\tIN [label=\"Input|images\"]\n",
      "\t\"PRE-R\" [label=\"ResNet50|{input:|output:}|{(224, 224, 3)|(2048)}\"]\n",
      "\t\"PRE-X\" [label=\"Xception|{input:|output:}|{(299, 299, 3)|(2048)}\"]\n",
      "\t\"PRE-I\" [label=\"InceptionV3|{input:|output:}|{(299, 299, 3)|(2048)}\"]\n",
      "\tIN -> \"PRE-R\"\n",
      "\tIN -> \"PRE-X\"\n",
      "\tIN -> \"PRE-I\"\n",
      "\tL3 [label=\"Flatten|{input:|output:}|{(2048,3)|2048*3=6144}\"]\n",
      "\t\"PRE-R\" -> L3\n",
      "\t\"PRE-X\" -> L3\n",
      "\t\"PRE-I\" -> L3\n",
      "\tL4 [label=\"Dropout|Rate:|0.5\"]\n",
      "\tL5 [label=\"Output|{input:|output:}|{6144|1}\"]\n",
      "\tL3 -> L4\n",
      "\tL4 -> L5\n",
      "}\n"
     ]
    },
    {
     "data": {
      "text/plain": [
       "'model-table.gv.pdf'"
      ]
     },
     "execution_count": 10,
     "metadata": {},
     "output_type": "execute_result"
    }
   ],
   "source": [
    "from graphviz import Digraph\n",
    "\n",
    "dot = Digraph(comment='The Model Chart')\n",
    "\n",
    "dot.attr('node',shape='record')\n",
    "\n",
    "dot.node('IN', 'Input|images')\n",
    "dot.node('PRE-R', 'ResNet50|{input:|output:}|{(224, 224, 3)|(2048)}')\n",
    "dot.node('PRE-X', 'Xception|{input:|output:}|{(299, 299, 3)|(2048)}')\n",
    "dot.node('PRE-I', 'InceptionV3|{input:|output:}|{(299, 299, 3)|(2048)}')\n",
    "dot.edge('IN', 'PRE-R')\n",
    "dot.edge('IN', 'PRE-X')\n",
    "dot.edge('IN', 'PRE-I')\n",
    "# dot.edges(['AB', 'AL'])\n",
    "# dot.edge('PRE-R', 'PRE-X', constraint='false')\n",
    "\n",
    "dot.node('L3', 'Flatten|{input:|output:}|{(2048,3)|2048*3=6144}')\n",
    "dot.edge('PRE-R', 'L3')\n",
    "dot.edge('PRE-X', 'L3')\n",
    "dot.edge('PRE-I', 'L3')\n",
    "\n",
    "dot.node('L4', 'Dropout|Rate:|0.5')\n",
    "dot.node('L5', 'Output|{input:|output:}|{6144|1}')\n",
    "dot.edge('L3', 'L4')\n",
    "dot.edge('L4', 'L5')\n",
    "\n",
    "print(dot.source)\n",
    "dot.render('model-table.gv', view=True)"
   ]
  },
  {
   "cell_type": "code",
   "execution_count": null,
   "metadata": {},
   "outputs": [],
   "source": []
  }
 ],
 "metadata": {
  "kernelspec": {
   "display_name": "Python 3",
   "language": "python",
   "name": "python3"
  },
  "language_info": {
   "codemirror_mode": {
    "name": "ipython",
    "version": 3
   },
   "file_extension": ".py",
   "mimetype": "text/x-python",
   "name": "python",
   "nbconvert_exporter": "python",
   "pygments_lexer": "ipython3",
   "version": "3.5.2"
  }
 },
 "nbformat": 4,
 "nbformat_minor": 2
}
