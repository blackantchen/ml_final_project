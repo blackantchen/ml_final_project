{
 "cells": [
  {
   "cell_type": "markdown",
   "metadata": {},
   "source": [
    "## 迁移学习"
   ]
  },
  {
   "cell_type": "markdown",
   "metadata": {},
   "source": [
    "训练参数设置"
   ]
  },
  {
   "cell_type": "code",
   "execution_count": 51,
   "metadata": {},
   "outputs": [
    {
     "name": "stdout",
     "output_type": "stream",
     "text": [
      "will use composite model\n"
     ]
    }
   ],
   "source": [
    "pre_features_files = {'ResNet50':'ResNet50_pre_out.h5', 'Xception':'Xception_pre_out.h5', 'InceptionV3':'InceptionV3_pre_out.h5'}\n",
    "\n",
    "composite_model = True\n",
    "single_model = 'ResNet50'\n",
    "\n",
    "# check training parameter\n",
    "if not composite_model and single_model not in pre_features_files:\n",
    "    print(\"%s not found in pre-trained models\" %single_model)\n",
    "else:\n",
    "    if composite_model:\n",
    "        print(\"will use composite model\")\n",
    "    else:\n",
    "        print(\"will use %s model\" %single_model)"
   ]
  },
  {
   "cell_type": "markdown",
   "metadata": {},
   "source": [
    "### 载入数据"
   ]
  },
  {
   "cell_type": "code",
   "execution_count": 52,
   "metadata": {},
   "outputs": [
    {
     "name": "stdout",
     "output_type": "stream",
     "text": [
      "train shape: (25000, 6144)\n",
      "train_data: [[0.0000000e+00 1.3600872e+01 1.2804574e+01 ... 2.1971479e-02\n",
      "  0.0000000e+00 1.0562230e+00]\n",
      " [0.0000000e+00 3.4676161e-01 1.3490912e+00 ... 0.0000000e+00\n",
      "  0.0000000e+00 1.5722100e+00]\n",
      " [0.0000000e+00 4.7338057e-02 1.8976200e+00 ... 0.0000000e+00\n",
      "  0.0000000e+00 2.9515190e+00]\n",
      " [0.0000000e+00 8.6745272e+00 1.7706371e+01 ... 0.0000000e+00\n",
      "  3.3145148e-01 1.3846457e+00]\n",
      " [0.0000000e+00 1.0520143e+01 2.6424284e+01 ... 0.0000000e+00\n",
      "  0.0000000e+00 1.6271708e+00]]\n"
     ]
    }
   ],
   "source": [
    "import h5py\n",
    "import numpy as np\n",
    "from sklearn.utils import shuffle\n",
    "np.random.seed(66)\n",
    "\n",
    "train_data = []\n",
    "test_data = []\n",
    "\n",
    "# #------- single pre-trained model\n",
    "if not composite_model:\n",
    "    with h5py.File(pre_features_files[single_model] , 'r') as h:\n",
    "        train_data.append(np.array(h['train']))\n",
    "        train_labels = np.array(h['label'])\n",
    "        test_data.append(np.array(h['test']))\n",
    "else:#-------- composite model\n",
    "    for model_name in pre_features_files:\n",
    "        with h5py.File(pre_features_files[model_name]) as h:\n",
    "            train_data.append(np.array(h['train']))\n",
    "            train_labels = np.array(h['label'])\n",
    "            test_data.append(np.array(h['test']))\n",
    "\n",
    "train_data = np.concatenate(train_data, axis=1)\n",
    "test_data = np.concatenate(test_data, axis=1)\n",
    "\n",
    "print(\"train shape:\",train_data.shape)\n",
    "print(\"train_data:\",train_data[:5])\n",
    "# 预存的X_train, y_train是按顺序存放的，前12500是猫，后12500是狗, 这里打乱顺序，使之随机存放\n",
    "# Note: 打乱的是存放存放顺序，并不改变 X_train , y_train的对应关系\n",
    "train_data, train_labels = shuffle(train_data, train_labels)"
   ]
  },
  {
   "cell_type": "markdown",
   "metadata": {},
   "source": [
    "### 构建模型"
   ]
  },
  {
   "cell_type": "markdown",
   "metadata": {},
   "source": [
    "```\n",
    "from keras.models import Sequential\n",
    "from keras.models import Model\n",
    "from keras.layers import GlobalAveragePooling2D\n",
    "from keras.layers import Activation, Dropout, Flatten, Dense, Input\n",
    "\n",
    "# from keras.applications import xception\n",
    "input_tensor=Input(train_data.shape[1:])\n",
    "\n",
    "model = Sequential()\n",
    "model.add(Flatten(input_tensor))\n",
    "model.add(Dense(1, activation='relu'))\n",
    "model.add(Dropout(0.5))\n",
    "model.add(Dense(1, activation='sigmoid'))\n",
    "\n",
    "model.compile(optimizer='rmsprop',\n",
    "              loss='binary_crossentropy',\n",
    "              metrics=['accuracy'])\n",
    "        \n",
    " ```"
   ]
  },
  {
   "cell_type": "code",
   "execution_count": 53,
   "metadata": {},
   "outputs": [],
   "source": [
    "from keras.models import Sequential\n",
    "from keras.models import Model\n",
    "from keras.layers import GlobalAveragePooling2D\n",
    "from keras.layers import Activation, Dropout, Flatten, Dense, Input\n",
    "import numpy as np\n",
    "\n",
    "np.random.seed(66)\n",
    "\n",
    "input_tensor = Input(train_data.shape[1:])\n",
    "x = Dropout(0.5)(input_tensor)\n",
    "x = Dense(1, activation='sigmoid')(x)\n",
    "model = Model(input_tensor, x)\n",
    "\n",
    "model.compile(optimizer='adadelta',\n",
    "              loss='binary_crossentropy',\n",
    "              metrics=['accuracy'])"
   ]
  },
  {
   "cell_type": "markdown",
   "metadata": {},
   "source": [
    "### 在pre-train features上训练模型"
   ]
  },
  {
   "cell_type": "code",
   "execution_count": 54,
   "metadata": {},
   "outputs": [
    {
     "name": "stdout",
     "output_type": "stream",
     "text": [
      "Train on 20000 samples, validate on 5000 samples\n",
      "Epoch 1/20\n",
      "20000/20000 [==============================] - 4s 212us/step - loss: 3.8523 - acc: 0.6693 - val_loss: 3.8159 - val_acc: 0.6778\n",
      "Epoch 2/20\n",
      "20000/20000 [==============================] - 4s 193us/step - loss: 1.8623 - acc: 0.8191 - val_loss: 0.9424 - val_acc: 0.8890\n",
      "Epoch 3/20\n",
      "20000/20000 [==============================] - 4s 193us/step - loss: 0.8420 - acc: 0.9040 - val_loss: 0.2015 - val_acc: 0.9650\n",
      "Epoch 4/20\n",
      "20000/20000 [==============================] - 4s 191us/step - loss: 0.5756 - acc: 0.9274 - val_loss: 0.5802 - val_acc: 0.9274\n",
      "Epoch 5/20\n",
      "20000/20000 [==============================] - 4s 192us/step - loss: 0.5098 - acc: 0.9323 - val_loss: 0.1768 - val_acc: 0.9704\n",
      "Epoch 6/20\n",
      "20000/20000 [==============================] - 4s 194us/step - loss: 0.4527 - acc: 0.9418 - val_loss: 0.2240 - val_acc: 0.9674\n",
      "Epoch 7/20\n",
      "20000/20000 [==============================] - 4s 193us/step - loss: 0.4237 - acc: 0.9470 - val_loss: 0.1710 - val_acc: 0.9704\n",
      "Epoch 8/20\n",
      "20000/20000 [==============================] - 4s 191us/step - loss: 0.3868 - acc: 0.9499 - val_loss: 0.2607 - val_acc: 0.9582\n",
      "Epoch 9/20\n",
      "20000/20000 [==============================] - 4s 184us/step - loss: 0.4103 - acc: 0.9471 - val_loss: 0.2130 - val_acc: 0.9652\n",
      "Epoch 10/20\n",
      "20000/20000 [==============================] - 4s 201us/step - loss: 0.4068 - acc: 0.9503 - val_loss: 1.2291 - val_acc: 0.8686\n",
      "Epoch 11/20\n",
      "20000/20000 [==============================] - 4s 197us/step - loss: 0.3817 - acc: 0.9516 - val_loss: 0.4321 - val_acc: 0.9490\n",
      "Epoch 12/20\n",
      "20000/20000 [==============================] - 4s 194us/step - loss: 0.3707 - acc: 0.9543 - val_loss: 0.2156 - val_acc: 0.9698\n",
      "Epoch 13/20\n",
      "20000/20000 [==============================] - 4s 192us/step - loss: 0.3549 - acc: 0.9550 - val_loss: 0.1712 - val_acc: 0.9732\n",
      "Epoch 14/20\n",
      "20000/20000 [==============================] - 4s 190us/step - loss: 0.3746 - acc: 0.9524 - val_loss: 0.6306 - val_acc: 0.9258\n",
      "Epoch 15/20\n",
      "20000/20000 [==============================] - 4s 193us/step - loss: 0.3398 - acc: 0.9560 - val_loss: 0.6952 - val_acc: 0.9202\n",
      "Epoch 16/20\n",
      "20000/20000 [==============================] - 4s 192us/step - loss: 0.3186 - acc: 0.9577 - val_loss: 0.8834 - val_acc: 0.9054\n",
      "Epoch 17/20\n",
      "20000/20000 [==============================] - 4s 194us/step - loss: 0.3327 - acc: 0.9584 - val_loss: 0.1589 - val_acc: 0.9760\n",
      "Epoch 18/20\n",
      "20000/20000 [==============================] - 4s 192us/step - loss: 0.3630 - acc: 0.9548 - val_loss: 0.1766 - val_acc: 0.9694\n",
      "Epoch 19/20\n",
      "20000/20000 [==============================] - 4s 191us/step - loss: 0.3897 - acc: 0.9528 - val_loss: 0.4089 - val_acc: 0.9474\n",
      "Epoch 20/20\n",
      "20000/20000 [==============================] - 4s 192us/step - loss: 0.3173 - acc: 0.9583 - val_loss: 0.3636 - val_acc: 0.9610\n"
     ]
    }
   ],
   "source": [
    "model_hist = model.fit(train_data, train_labels,\n",
    "                       batch_size=128,epochs=20,\n",
    "                       validation_split = 0.2,\n",
    "                       verbose=1\n",
    "          )"
   ]
  },
  {
   "cell_type": "code",
   "execution_count": 55,
   "metadata": {},
   "outputs": [],
   "source": [
    "if composite_model:\n",
    "    logpath = 'log/composite_mode'\n",
    "else:\n",
    "    logpath = 'log/'+single_model\n",
    "    \n",
    "model.save(logpath+'.h5')\n",
    "with open(logpath+'_hist.txt','w') as f:\n",
    "    f.write(str(model_hist.history))"
   ]
  },
  {
   "cell_type": "code",
   "execution_count": 57,
   "metadata": {},
   "outputs": [
    {
     "name": "stdout",
     "output_type": "stream",
     "text": [
      "{'val_loss': [3.8159383949279784, 0.9424129034042359, 0.20147865808857549, 0.5802018656305968, 0.17675653689699192, 0.22401397658131317, 0.17100528118861782, 0.2606603018400558, 0.2129590988750564, 1.2290830436706544, 0.43206852625608444, 0.21556989591969122, 0.17122339642299284, 0.6305705663053457, 0.6952169847430489, 0.8834411393165589, 0.15889457863224613, 0.1765981456960546, 0.4089093964899885, 0.36357489967700096], 'val_acc': [0.6778, 0.889, 0.965, 0.9274, 0.9704, 0.9674, 0.9704, 0.9582, 0.9652, 0.8686, 0.949, 0.9698, 0.9732, 0.9258, 0.9202, 0.9054, 0.976, 0.9694, 0.9474, 0.961], 'loss': [3.852318737792969, 1.862259707927704, 0.8420135493278503, 0.5755771483302117, 0.509756089656183, 0.45274940440654754, 0.42368918227239044, 0.38684964690208434, 0.4103355574206216, 0.40684875766038897, 0.38169142669439315, 0.37072995982170104, 0.3548784342288971, 0.3745948179435916, 0.33977001896500586, 0.3186410650257021, 0.3327444457407284, 0.362974061240349, 0.38966800240576266, 0.3172710598319769], 'acc': [0.66925, 0.8191, 0.904, 0.92745, 0.9323, 0.9418, 0.94695, 0.9499, 0.9471, 0.9503, 0.9516, 0.9543, 0.95495, 0.95235, 0.956, 0.9577, 0.9584, 0.95485, 0.95285, 0.95825]}\n"
     ]
    },
    {
     "name": "stderr",
     "output_type": "stream",
     "text": [
      "c:\\programdata\\anaconda2\\envs\\style-transfer\\lib\\site-packages\\matplotlib\\figure.py:459: UserWarning: matplotlib is currently using a non-GUI backend, so cannot show the figure\n",
      "  \"matplotlib is currently using a non-GUI backend, \"\n"
     ]
    },
    {
     "data": {
      "image/png": "[encoded data removed]",
      "text/plain": [
       "<Figure size 432x288 with 1 Axes>"
      ]
     },
     "metadata": {},
     "output_type": "display_data"
    }
   ],
   "source": [
    "## 查看 history\n",
    "import matplotlib.pyplot as plt\n",
    "\n",
    "def read_history_from_file(filename):\n",
    "    f = open(filename,'r')\n",
    "    rdbuf = f.read()\n",
    "    hist = eval(rdbuf)\n",
    "    f.close()\n",
    "    \n",
    "    return hist\n",
    "\n",
    "def show_history(hist, title_name):\n",
    "    # epoch as x-axis \n",
    "    epochs = range(len(hist['acc']))\n",
    "    \n",
    "    fig, ax = plt.subplots()\n",
    "    \n",
    "    # acc\n",
    "    ax.plot(epochs, hist['acc'], 'r', label='acc')\n",
    "    # loss\n",
    "    ax.plot(epochs, hist['loss'], 'g', label='loss')\n",
    "    # val_acc\n",
    "    ax.plot(epochs, hist['val_acc'], 'b', label='val_acc')\n",
    "    # val_loss\n",
    "    ax.plot(epochs, hist['val_loss'], 'k', label='val_loss')\n",
    "    \n",
    "    ax.set(xlabel='epochs', ylabel='acc-loss',title=title_name)\n",
    "    \n",
    "    ax.legend(loc='best', fancybox=True, fontsize=10)\n",
    "            \n",
    "    ax.grid(True)\n",
    "    \n",
    "    fig.show()\n",
    "    \n",
    "hist = read_history_from_file(logpath+'_hist.txt')\n",
    "print(hist)\n",
    "if composite_model:\n",
    "    title_name = 'Composite Model'\n",
    "else:\n",
    "    title_name = single_model\n",
    "show_history(hist, title_name)"
   ]
  },
  {
   "cell_type": "markdown",
   "metadata": {},
   "source": [
    "### 用拟合后的模型预测"
   ]
  },
  {
   "cell_type": "code",
   "execution_count": 49,
   "metadata": {},
   "outputs": [
    {
     "name": "stdout",
     "output_type": "stream",
     "text": [
      "12500/12500 [==============================] - 0s 23us/step\n"
     ]
    }
   ],
   "source": [
    "y_pred = model.predict(test_data, verbose=1)"
   ]
  },
  {
   "cell_type": "markdown",
   "metadata": {},
   "source": [
    "预测结果写入kaggle sample_submission.csv"
   ]
  },
  {
   "cell_type": "code",
   "execution_count": 50,
   "metadata": {},
   "outputs": [
    {
     "ename": "FileNotFoundError",
     "evalue": "[WinError 3] 系统找不到指定的路径。: 'pre-test'",
     "output_type": "error",
     "traceback": [
      "\u001b[1;31m---------------------------------------------------------------------------\u001b[0m",
      "\u001b[1;31mFileNotFoundError\u001b[0m                         Traceback (most recent call last)",
      "\u001b[1;32m<ipython-input-50-3fed0864b659>\u001b[0m in \u001b[0;36m<module>\u001b[1;34m()\u001b[0m\n\u001b[0;32m      8\u001b[0m \u001b[0mgen\u001b[0m \u001b[1;33m=\u001b[0m \u001b[0mImageDataGenerator\u001b[0m\u001b[1;33m(\u001b[0m\u001b[1;33m)\u001b[0m\u001b[1;33m\u001b[0m\u001b[0m\n\u001b[0;32m      9\u001b[0m test_generator = gen.flow_from_directory(\"pre-test\", (224, 224), shuffle=False, \n\u001b[1;32m---> 10\u001b[1;33m                                          batch_size=16, class_mode=None)\n\u001b[0m\u001b[0;32m     11\u001b[0m \u001b[1;33m\u001b[0m\u001b[0m\n\u001b[0;32m     12\u001b[0m \u001b[1;32mfor\u001b[0m \u001b[0mi\u001b[0m\u001b[1;33m,\u001b[0m \u001b[0mfname\u001b[0m \u001b[1;32min\u001b[0m \u001b[0menumerate\u001b[0m\u001b[1;33m(\u001b[0m\u001b[0mtest_generator\u001b[0m\u001b[1;33m.\u001b[0m\u001b[0mfilenames\u001b[0m\u001b[1;33m)\u001b[0m\u001b[1;33m:\u001b[0m\u001b[1;33m\u001b[0m\u001b[0m\n",
      "\u001b[1;32mc:\\programdata\\anaconda2\\envs\\style-transfer\\lib\\site-packages\\keras_preprocessing\\image.py\u001b[0m in \u001b[0;36mflow_from_directory\u001b[1;34m(self, directory, target_size, color_mode, classes, class_mode, batch_size, shuffle, seed, save_to_dir, save_prefix, save_format, follow_links, subset, interpolation)\u001b[0m\n\u001b[0;32m    933\u001b[0m             \u001b[0mfollow_links\u001b[0m\u001b[1;33m=\u001b[0m\u001b[0mfollow_links\u001b[0m\u001b[1;33m,\u001b[0m\u001b[1;33m\u001b[0m\u001b[0m\n\u001b[0;32m    934\u001b[0m             \u001b[0msubset\u001b[0m\u001b[1;33m=\u001b[0m\u001b[0msubset\u001b[0m\u001b[1;33m,\u001b[0m\u001b[1;33m\u001b[0m\u001b[0m\n\u001b[1;32m--> 935\u001b[1;33m             interpolation=interpolation)\n\u001b[0m\u001b[0;32m    936\u001b[0m \u001b[1;33m\u001b[0m\u001b[0m\n\u001b[0;32m    937\u001b[0m     \u001b[1;32mdef\u001b[0m \u001b[0mstandardize\u001b[0m\u001b[1;33m(\u001b[0m\u001b[0mself\u001b[0m\u001b[1;33m,\u001b[0m \u001b[0mx\u001b[0m\u001b[1;33m)\u001b[0m\u001b[1;33m:\u001b[0m\u001b[1;33m\u001b[0m\u001b[0m\n",
      "\u001b[1;32mc:\\programdata\\anaconda2\\envs\\style-transfer\\lib\\site-packages\\keras_preprocessing\\image.py\u001b[0m in \u001b[0;36m__init__\u001b[1;34m(self, directory, image_data_generator, target_size, color_mode, classes, class_mode, batch_size, shuffle, seed, data_format, save_to_dir, save_prefix, save_format, follow_links, subset, interpolation)\u001b[0m\n\u001b[0;32m   1679\u001b[0m         \u001b[1;32mif\u001b[0m \u001b[1;32mnot\u001b[0m \u001b[0mclasses\u001b[0m\u001b[1;33m:\u001b[0m\u001b[1;33m\u001b[0m\u001b[0m\n\u001b[0;32m   1680\u001b[0m             \u001b[0mclasses\u001b[0m \u001b[1;33m=\u001b[0m \u001b[1;33m[\u001b[0m\u001b[1;33m]\u001b[0m\u001b[1;33m\u001b[0m\u001b[0m\n\u001b[1;32m-> 1681\u001b[1;33m             \u001b[1;32mfor\u001b[0m \u001b[0msubdir\u001b[0m \u001b[1;32min\u001b[0m \u001b[0msorted\u001b[0m\u001b[1;33m(\u001b[0m\u001b[0mos\u001b[0m\u001b[1;33m.\u001b[0m\u001b[0mlistdir\u001b[0m\u001b[1;33m(\u001b[0m\u001b[0mdirectory\u001b[0m\u001b[1;33m)\u001b[0m\u001b[1;33m)\u001b[0m\u001b[1;33m:\u001b[0m\u001b[1;33m\u001b[0m\u001b[0m\n\u001b[0m\u001b[0;32m   1682\u001b[0m                 \u001b[1;32mif\u001b[0m \u001b[0mos\u001b[0m\u001b[1;33m.\u001b[0m\u001b[0mpath\u001b[0m\u001b[1;33m.\u001b[0m\u001b[0misdir\u001b[0m\u001b[1;33m(\u001b[0m\u001b[0mos\u001b[0m\u001b[1;33m.\u001b[0m\u001b[0mpath\u001b[0m\u001b[1;33m.\u001b[0m\u001b[0mjoin\u001b[0m\u001b[1;33m(\u001b[0m\u001b[0mdirectory\u001b[0m\u001b[1;33m,\u001b[0m \u001b[0msubdir\u001b[0m\u001b[1;33m)\u001b[0m\u001b[1;33m)\u001b[0m\u001b[1;33m:\u001b[0m\u001b[1;33m\u001b[0m\u001b[0m\n\u001b[0;32m   1683\u001b[0m                     \u001b[0mclasses\u001b[0m\u001b[1;33m.\u001b[0m\u001b[0mappend\u001b[0m\u001b[1;33m(\u001b[0m\u001b[0msubdir\u001b[0m\u001b[1;33m)\u001b[0m\u001b[1;33m\u001b[0m\u001b[0m\n",
      "\u001b[1;31mFileNotFoundError\u001b[0m: [WinError 3] 系统找不到指定的路径。: 'pre-test'"
     ]
    }
   ],
   "source": [
    "y_pred = y_pred.clip(min=0.005, max=0.995)\n",
    "\n",
    "import pandas as pd\n",
    "from keras.preprocessing.image import *\n",
    "\n",
    "df = pd.read_csv(\"sample_submission.csv\")\n",
    "\n",
    "gen = ImageDataGenerator()\n",
    "test_generator = gen.flow_from_directory(\"pre-test\", (224, 224), shuffle=False, \n",
    "                                         batch_size=16, class_mode=None)\n",
    "\n",
    "for i, fname in enumerate(test_generator.filenames):\n",
    "    index = int(fname[fname.rfind('/')+1:fname.rfind('.')])\n",
    "    df.set_value(index-1, 'label', y_pred[i])\n",
    "\n",
    "df.to_csv('pred.csv', index=None)\n",
    "df.head(10)"
   ]
  },
  {
   "cell_type": "markdown",
   "metadata": {},
   "source": [
    "### 模型可视化"
   ]
  },
  {
   "cell_type": "code",
   "execution_count": 1,
   "metadata": {},
   "outputs": [
    {
     "name": "stdout",
     "output_type": "stream",
     "text": [
      "// The Model Chart\n",
      "digraph {\n",
      "\tnode [shape=record]\n",
      "\tIN [label=\"Input|images\"]\n",
      "\t\"PRE-R\" [label=\"ResNet50|{input:|output:}|{(224, 224, 3)|(2048)}\"]\n",
      "\t\"PRE-X\" [label=\"Xception|{input:|output:}|{(299, 299, 3)|(2048)}\"]\n",
      "\t\"PRE-I\" [label=\"InceptionV3|{input:|output:}|{(299, 299, 3)|(2048)}\"]\n",
      "\tIN -> \"PRE-R\"\n",
      "\tIN -> \"PRE-X\"\n",
      "\tIN -> \"PRE-I\"\n",
      "\tL3 [label=\"Flatten|{input:|output:}|{(2048,3)|2048*3=6144}\"]\n",
      "\t\"PRE-R\" -> L3\n",
      "\t\"PRE-X\" -> L3\n",
      "\t\"PRE-I\" -> L3\n",
      "\tL4 [label=\"Dropout|Rate:|0.5\"]\n",
      "\tL5 [label=\"Output|{input:|output:}|{6144|1}\"]\n",
      "\tL3 -> L4\n",
      "\tL4 -> L5\n",
      "}\n"
     ]
    },
    {
     "data": {
      "text/plain": [
       "'model-table.gv.pdf'"
      ]
     },
     "execution_count": 1,
     "metadata": {},
     "output_type": "execute_result"
    }
   ],
   "source": [
    "from graphviz import Digraph\n",
    "\n",
    "dot = Digraph(comment='The Model Chart')\n",
    "\n",
    "dot.attr('node',shape='record')\n",
    "\n",
    "dot.node('IN', 'Input|images')\n",
    "dot.node('PRE-R', 'ResNet50|{input:|output:}|{(224, 224, 3)|(2048)}')\n",
    "dot.node('PRE-X', 'Xception|{input:|output:}|{(299, 299, 3)|(2048)}')\n",
    "dot.node('PRE-I', 'InceptionV3|{input:|output:}|{(299, 299, 3)|(2048)}')\n",
    "dot.edge('IN', 'PRE-R')\n",
    "dot.edge('IN', 'PRE-X')\n",
    "dot.edge('IN', 'PRE-I')\n",
    "# dot.edges(['AB', 'AL'])\n",
    "# dot.edge('PRE-R', 'PRE-X', constraint='false')\n",
    "\n",
    "dot.node('L3', 'Flatten|{input:|output:}|{(2048,3)|2048*3=6144}')\n",
    "dot.edge('PRE-R', 'L3')\n",
    "dot.edge('PRE-X', 'L3')\n",
    "dot.edge('PRE-I', 'L3')\n",
    "\n",
    "dot.node('L4', 'Dropout|Rate:|0.5')\n",
    "dot.node('L5', 'Output|{input:|output:}|{6144|1}')\n",
    "dot.edge('L3', 'L4')\n",
    "dot.edge('L4', 'L5')\n",
    "\n",
    "print(dot.source)\n",
    "dot.render('model-table.gv', view=True)"
   ]
  },
  {
   "cell_type": "code",
   "execution_count": null,
   "metadata": {},
   "outputs": [],
   "source": []
  }
 ],
 "metadata": {
  "kernelspec": {
   "display_name": "Python 3",
   "language": "python",
   "name": "python3"
  },
  "language_info": {
   "codemirror_mode": {
    "name": "ipython",
    "version": 3
   },
   "file_extension": ".py",
   "mimetype": "text/x-python",
   "name": "python",
   "nbconvert_exporter": "python",
   "pygments_lexer": "ipython3",
   "version": "3.5.5"
  }
 },
 "nbformat": 4,
 "nbformat_minor": 2
}
